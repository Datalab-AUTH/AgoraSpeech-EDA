{
 "cells": [
  {
   "cell_type": "markdown",
   "metadata": {},
   "source": [
    "This notebook creates visualizations of the human annotations for all the six NLP tasks.\n",
    "\n",
    "* Input: 'AgoraSpeech_preprocessed.csv'\n",
    "* Output: 'correlations.png', 'criticim_agenda.png', 'entities_horizontal_bars.png', 'entities_wordcloud_simple.png', 'entities_wordcloud.png', 'polarization.png', 'populism.png', 'sentiment.png', topics_grouped_bars.png', and 'topics_horizontal_bars.png'\n",
    "* Actions: It creates visualizations for answering the following questions (corresponds to the six NLP tasks):\n",
    "    1. Do politicians focus on presenting their agenda or on criticizing their opponents?\n",
    "    2. In what topics are politicians' campaign speeches focused on?\n",
    "    3. What is the prevalent sentiment in politicians’ speeches?\n",
    "    4. To what extent are politicians’ speeches polarized?\n",
    "    5. Do politicians’ speeches exhibit populism?\n",
    "    6. Do politicians often refer to specific entities?"
   ]
  },
  {
   "cell_type": "code",
   "execution_count": 1,
   "metadata": {},
   "outputs": [],
   "source": [
    "import warnings\n",
    "import numpy as np\n",
    "import pandas as pd\n",
    "from PIL import Image\n",
    "import plotly.express as px\n",
    "import matplotlib.pyplot as plt\n",
    "from collections import Counter\n",
    "from wordcloud import WordCloud\n",
    "warnings.filterwarnings('ignore')\n",
    "import plotly.graph_objects as go\n",
    "import matplotlib.colors as mcolors\n",
    "from scipy.stats import spearmanr, chi2_contingency"
   ]
  },
  {
   "cell_type": "code",
   "execution_count": 2,
   "metadata": {},
   "outputs": [],
   "source": [
    "# read data\n",
    "data = pd.read_csv('AgoraSpeech_preprocessed.csv')"
   ]
  },
  {
   "cell_type": "markdown",
   "metadata": {},
   "source": [
    "Do politicians focus on presenting their agenda or on criticizing their opponents?"
   ]
  },
  {
   "cell_type": "code",
   "execution_count": 3,
   "metadata": {},
   "outputs": [
    {
     "data": {
      "application/vnd.plotly.v1+json": {
       "config": {
        "plotlyServerURL": "https://plot.ly"
       },
       "data": [
        {
         "alignmentgroup": "True",
         "hovertemplate": "politician=Androulakis<br>Criticim vs. Agenda=%{x}<br>Fraction of paragraphs=%{text}<extra></extra>",
         "legendgroup": "Androulakis",
         "marker": {
          "color": "#00cc44",
          "pattern": {
           "shape": ""
          }
         },
         "name": "Androulakis",
         "offsetgroup": "Androulakis",
         "orientation": "v",
         "showlegend": true,
         "text": [
          0.4,
          0.6
         ],
         "textfont": {
          "family": "Arial",
          "size": 14
         },
         "textposition": "outside",
         "texttemplate": "%{y}",
         "type": "bar",
         "x": [
          "criticism",
          "political agenda"
         ],
         "xaxis": "x",
         "y": [
          0.4,
          0.6
         ],
         "yaxis": "y"
        },
        {
         "alignmentgroup": "True",
         "hovertemplate": "politician=Koutsoumpas<br>Criticim vs. Agenda=%{x}<br>Fraction of paragraphs=%{text}<extra></extra>",
         "legendgroup": "Koutsoumpas",
         "marker": {
          "color": "#ff4d4d",
          "pattern": {
           "shape": ""
          }
         },
         "name": "Koutsoumpas",
         "offsetgroup": "Koutsoumpas",
         "orientation": "v",
         "showlegend": true,
         "text": [
          0.52,
          0.48
         ],
         "textfont": {
          "family": "Arial",
          "size": 14
         },
         "textposition": "outside",
         "texttemplate": "%{y}",
         "type": "bar",
         "x": [
          "criticism",
          "political agenda"
         ],
         "xaxis": "x",
         "y": [
          0.52,
          0.48
         ],
         "yaxis": "y"
        },
        {
         "alignmentgroup": "True",
         "hovertemplate": "politician=Mitsotakis<br>Criticim vs. Agenda=%{x}<br>Fraction of paragraphs=%{text}<extra></extra>",
         "legendgroup": "Mitsotakis",
         "marker": {
          "color": "#007dea",
          "pattern": {
           "shape": ""
          }
         },
         "name": "Mitsotakis",
         "offsetgroup": "Mitsotakis",
         "orientation": "v",
         "showlegend": true,
         "text": [
          0.15,
          0.85
         ],
         "textfont": {
          "family": "Arial",
          "size": 14
         },
         "textposition": "outside",
         "texttemplate": "%{y}",
         "type": "bar",
         "x": [
          "criticism",
          "political agenda"
         ],
         "xaxis": "x",
         "y": [
          0.15,
          0.85
         ],
         "yaxis": "y"
        },
        {
         "alignmentgroup": "True",
         "hovertemplate": "politician=Tsipras<br>Criticim vs. Agenda=%{x}<br>Fraction of paragraphs=%{text}<extra></extra>",
         "legendgroup": "Tsipras",
         "marker": {
          "color": "#ef4393",
          "pattern": {
           "shape": ""
          }
         },
         "name": "Tsipras",
         "offsetgroup": "Tsipras",
         "orientation": "v",
         "showlegend": true,
         "text": [
          0.46,
          0.54
         ],
         "textfont": {
          "family": "Arial",
          "size": 14
         },
         "textposition": "outside",
         "texttemplate": "%{y}",
         "type": "bar",
         "x": [
          "criticism",
          "political agenda"
         ],
         "xaxis": "x",
         "y": [
          0.46,
          0.54
         ],
         "yaxis": "y"
        },
        {
         "alignmentgroup": "True",
         "hovertemplate": "politician=Varoufakis<br>Criticim vs. Agenda=%{x}<br>Fraction of paragraphs=%{text}<extra></extra>",
         "legendgroup": "Varoufakis",
         "marker": {
          "color": "#fd9347",
          "pattern": {
           "shape": ""
          }
         },
         "name": "Varoufakis",
         "offsetgroup": "Varoufakis",
         "orientation": "v",
         "showlegend": true,
         "text": [
          0.49,
          0.51
         ],
         "textfont": {
          "family": "Arial",
          "size": 14
         },
         "textposition": "outside",
         "texttemplate": "%{y}",
         "type": "bar",
         "x": [
          "criticism",
          "political agenda"
         ],
         "xaxis": "x",
         "y": [
          0.49,
          0.51
         ],
         "yaxis": "y"
        },
        {
         "alignmentgroup": "True",
         "hovertemplate": "politician=Velopoulos<br>Criticim vs. Agenda=%{x}<br>Fraction of paragraphs=%{text}<extra></extra>",
         "legendgroup": "Velopoulos",
         "marker": {
          "color": "#5cb2e5",
          "pattern": {
           "shape": ""
          }
         },
         "name": "Velopoulos",
         "offsetgroup": "Velopoulos",
         "orientation": "v",
         "showlegend": true,
         "text": [
          0.71,
          0.29
         ],
         "textfont": {
          "family": "Arial",
          "size": 14
         },
         "textposition": "outside",
         "texttemplate": "%{y}",
         "type": "bar",
         "x": [
          "criticism",
          "political agenda"
         ],
         "xaxis": "x",
         "y": [
          0.71,
          0.29
         ],
         "yaxis": "y"
        },
        {
         "line": {
          "color": "#666666",
          "dash": "dash",
          "width": 3
         },
         "mode": "lines",
         "name": "Overall",
         "showlegend": true,
         "type": "scatter",
         "x": [
          null
         ],
         "y": [
          null
         ]
        }
       ],
       "layout": {
        "barmode": "group",
        "height": 500,
        "legend": {
         "font": {
          "family": "Arial",
          "size": 16
         },
         "orientation": "h",
         "title": {
          "text": "Politicians"
         },
         "tracegroupgap": 0,
         "x": 0.5,
         "xanchor": "center",
         "y": 1,
         "yanchor": "bottom"
        },
        "margin": {
         "t": 60
        },
        "shapes": [
         {
          "line": {
           "color": "#666666",
           "dash": "dash",
           "width": 3
          },
          "type": "line",
          "x0": -0.45,
          "x1": 0.45,
          "xref": "x",
          "y0": 0.39,
          "y1": 0.39,
          "yref": "y"
         },
         {
          "line": {
           "color": "#666666",
           "dash": "dash",
           "width": 3
          },
          "type": "line",
          "x0": 0.55,
          "x1": 1.45,
          "xref": "x",
          "y0": 0.6,
          "y1": 0.6,
          "yref": "y"
         }
        ],
        "template": {
         "data": {
          "bar": [
           {
            "error_x": {
             "color": "#2a3f5f"
            },
            "error_y": {
             "color": "#2a3f5f"
            },
            "marker": {
             "line": {
              "color": "#E5ECF6",
              "width": 0.5
             },
             "pattern": {
              "fillmode": "overlay",
              "size": 10,
              "solidity": 0.2
             }
            },
            "type": "bar"
           }
          ],
          "barpolar": [
           {
            "marker": {
             "line": {
              "color": "#E5ECF6",
              "width": 0.5
             },
             "pattern": {
              "fillmode": "overlay",
              "size": 10,
              "solidity": 0.2
             }
            },
            "type": "barpolar"
           }
          ],
          "carpet": [
           {
            "aaxis": {
             "endlinecolor": "#2a3f5f",
             "gridcolor": "white",
             "linecolor": "white",
             "minorgridcolor": "white",
             "startlinecolor": "#2a3f5f"
            },
            "baxis": {
             "endlinecolor": "#2a3f5f",
             "gridcolor": "white",
             "linecolor": "white",
             "minorgridcolor": "white",
             "startlinecolor": "#2a3f5f"
            },
            "type": "carpet"
           }
          ],
          "choropleth": [
           {
            "colorbar": {
             "outlinewidth": 0,
             "ticks": ""
            },
            "type": "choropleth"
           }
          ],
          "contour": [
           {
            "colorbar": {
             "outlinewidth": 0,
             "ticks": ""
            },
            "colorscale": [
             [
              0,
              "#0d0887"
             ],
             [
              0.1111111111111111,
              "#46039f"
             ],
             [
              0.2222222222222222,
              "#7201a8"
             ],
             [
              0.3333333333333333,
              "#9c179e"
             ],
             [
              0.4444444444444444,
              "#bd3786"
             ],
             [
              0.5555555555555556,
              "#d8576b"
             ],
             [
              0.6666666666666666,
              "#ed7953"
             ],
             [
              0.7777777777777778,
              "#fb9f3a"
             ],
             [
              0.8888888888888888,
              "#fdca26"
             ],
             [
              1,
              "#f0f921"
             ]
            ],
            "type": "contour"
           }
          ],
          "contourcarpet": [
           {
            "colorbar": {
             "outlinewidth": 0,
             "ticks": ""
            },
            "type": "contourcarpet"
           }
          ],
          "heatmap": [
           {
            "colorbar": {
             "outlinewidth": 0,
             "ticks": ""
            },
            "colorscale": [
             [
              0,
              "#0d0887"
             ],
             [
              0.1111111111111111,
              "#46039f"
             ],
             [
              0.2222222222222222,
              "#7201a8"
             ],
             [
              0.3333333333333333,
              "#9c179e"
             ],
             [
              0.4444444444444444,
              "#bd3786"
             ],
             [
              0.5555555555555556,
              "#d8576b"
             ],
             [
              0.6666666666666666,
              "#ed7953"
             ],
             [
              0.7777777777777778,
              "#fb9f3a"
             ],
             [
              0.8888888888888888,
              "#fdca26"
             ],
             [
              1,
              "#f0f921"
             ]
            ],
            "type": "heatmap"
           }
          ],
          "heatmapgl": [
           {
            "colorbar": {
             "outlinewidth": 0,
             "ticks": ""
            },
            "colorscale": [
             [
              0,
              "#0d0887"
             ],
             [
              0.1111111111111111,
              "#46039f"
             ],
             [
              0.2222222222222222,
              "#7201a8"
             ],
             [
              0.3333333333333333,
              "#9c179e"
             ],
             [
              0.4444444444444444,
              "#bd3786"
             ],
             [
              0.5555555555555556,
              "#d8576b"
             ],
             [
              0.6666666666666666,
              "#ed7953"
             ],
             [
              0.7777777777777778,
              "#fb9f3a"
             ],
             [
              0.8888888888888888,
              "#fdca26"
             ],
             [
              1,
              "#f0f921"
             ]
            ],
            "type": "heatmapgl"
           }
          ],
          "histogram": [
           {
            "marker": {
             "pattern": {
              "fillmode": "overlay",
              "size": 10,
              "solidity": 0.2
             }
            },
            "type": "histogram"
           }
          ],
          "histogram2d": [
           {
            "colorbar": {
             "outlinewidth": 0,
             "ticks": ""
            },
            "colorscale": [
             [
              0,
              "#0d0887"
             ],
             [
              0.1111111111111111,
              "#46039f"
             ],
             [
              0.2222222222222222,
              "#7201a8"
             ],
             [
              0.3333333333333333,
              "#9c179e"
             ],
             [
              0.4444444444444444,
              "#bd3786"
             ],
             [
              0.5555555555555556,
              "#d8576b"
             ],
             [
              0.6666666666666666,
              "#ed7953"
             ],
             [
              0.7777777777777778,
              "#fb9f3a"
             ],
             [
              0.8888888888888888,
              "#fdca26"
             ],
             [
              1,
              "#f0f921"
             ]
            ],
            "type": "histogram2d"
           }
          ],
          "histogram2dcontour": [
           {
            "colorbar": {
             "outlinewidth": 0,
             "ticks": ""
            },
            "colorscale": [
             [
              0,
              "#0d0887"
             ],
             [
              0.1111111111111111,
              "#46039f"
             ],
             [
              0.2222222222222222,
              "#7201a8"
             ],
             [
              0.3333333333333333,
              "#9c179e"
             ],
             [
              0.4444444444444444,
              "#bd3786"
             ],
             [
              0.5555555555555556,
              "#d8576b"
             ],
             [
              0.6666666666666666,
              "#ed7953"
             ],
             [
              0.7777777777777778,
              "#fb9f3a"
             ],
             [
              0.8888888888888888,
              "#fdca26"
             ],
             [
              1,
              "#f0f921"
             ]
            ],
            "type": "histogram2dcontour"
           }
          ],
          "mesh3d": [
           {
            "colorbar": {
             "outlinewidth": 0,
             "ticks": ""
            },
            "type": "mesh3d"
           }
          ],
          "parcoords": [
           {
            "line": {
             "colorbar": {
              "outlinewidth": 0,
              "ticks": ""
             }
            },
            "type": "parcoords"
           }
          ],
          "pie": [
           {
            "automargin": true,
            "type": "pie"
           }
          ],
          "scatter": [
           {
            "fillpattern": {
             "fillmode": "overlay",
             "size": 10,
             "solidity": 0.2
            },
            "type": "scatter"
           }
          ],
          "scatter3d": [
           {
            "line": {
             "colorbar": {
              "outlinewidth": 0,
              "ticks": ""
             }
            },
            "marker": {
             "colorbar": {
              "outlinewidth": 0,
              "ticks": ""
             }
            },
            "type": "scatter3d"
           }
          ],
          "scattercarpet": [
           {
            "marker": {
             "colorbar": {
              "outlinewidth": 0,
              "ticks": ""
             }
            },
            "type": "scattercarpet"
           }
          ],
          "scattergeo": [
           {
            "marker": {
             "colorbar": {
              "outlinewidth": 0,
              "ticks": ""
             }
            },
            "type": "scattergeo"
           }
          ],
          "scattergl": [
           {
            "marker": {
             "colorbar": {
              "outlinewidth": 0,
              "ticks": ""
             }
            },
            "type": "scattergl"
           }
          ],
          "scattermapbox": [
           {
            "marker": {
             "colorbar": {
              "outlinewidth": 0,
              "ticks": ""
             }
            },
            "type": "scattermapbox"
           }
          ],
          "scatterpolar": [
           {
            "marker": {
             "colorbar": {
              "outlinewidth": 0,
              "ticks": ""
             }
            },
            "type": "scatterpolar"
           }
          ],
          "scatterpolargl": [
           {
            "marker": {
             "colorbar": {
              "outlinewidth": 0,
              "ticks": ""
             }
            },
            "type": "scatterpolargl"
           }
          ],
          "scatterternary": [
           {
            "marker": {
             "colorbar": {
              "outlinewidth": 0,
              "ticks": ""
             }
            },
            "type": "scatterternary"
           }
          ],
          "surface": [
           {
            "colorbar": {
             "outlinewidth": 0,
             "ticks": ""
            },
            "colorscale": [
             [
              0,
              "#0d0887"
             ],
             [
              0.1111111111111111,
              "#46039f"
             ],
             [
              0.2222222222222222,
              "#7201a8"
             ],
             [
              0.3333333333333333,
              "#9c179e"
             ],
             [
              0.4444444444444444,
              "#bd3786"
             ],
             [
              0.5555555555555556,
              "#d8576b"
             ],
             [
              0.6666666666666666,
              "#ed7953"
             ],
             [
              0.7777777777777778,
              "#fb9f3a"
             ],
             [
              0.8888888888888888,
              "#fdca26"
             ],
             [
              1,
              "#f0f921"
             ]
            ],
            "type": "surface"
           }
          ],
          "table": [
           {
            "cells": {
             "fill": {
              "color": "#EBF0F8"
             },
             "line": {
              "color": "white"
             }
            },
            "header": {
             "fill": {
              "color": "#C8D4E3"
             },
             "line": {
              "color": "white"
             }
            },
            "type": "table"
           }
          ]
         },
         "layout": {
          "annotationdefaults": {
           "arrowcolor": "#2a3f5f",
           "arrowhead": 0,
           "arrowwidth": 1
          },
          "autotypenumbers": "strict",
          "coloraxis": {
           "colorbar": {
            "outlinewidth": 0,
            "ticks": ""
           }
          },
          "colorscale": {
           "diverging": [
            [
             0,
             "#8e0152"
            ],
            [
             0.1,
             "#c51b7d"
            ],
            [
             0.2,
             "#de77ae"
            ],
            [
             0.3,
             "#f1b6da"
            ],
            [
             0.4,
             "#fde0ef"
            ],
            [
             0.5,
             "#f7f7f7"
            ],
            [
             0.6,
             "#e6f5d0"
            ],
            [
             0.7,
             "#b8e186"
            ],
            [
             0.8,
             "#7fbc41"
            ],
            [
             0.9,
             "#4d9221"
            ],
            [
             1,
             "#276419"
            ]
           ],
           "sequential": [
            [
             0,
             "#0d0887"
            ],
            [
             0.1111111111111111,
             "#46039f"
            ],
            [
             0.2222222222222222,
             "#7201a8"
            ],
            [
             0.3333333333333333,
             "#9c179e"
            ],
            [
             0.4444444444444444,
             "#bd3786"
            ],
            [
             0.5555555555555556,
             "#d8576b"
            ],
            [
             0.6666666666666666,
             "#ed7953"
            ],
            [
             0.7777777777777778,
             "#fb9f3a"
            ],
            [
             0.8888888888888888,
             "#fdca26"
            ],
            [
             1,
             "#f0f921"
            ]
           ],
           "sequentialminus": [
            [
             0,
             "#0d0887"
            ],
            [
             0.1111111111111111,
             "#46039f"
            ],
            [
             0.2222222222222222,
             "#7201a8"
            ],
            [
             0.3333333333333333,
             "#9c179e"
            ],
            [
             0.4444444444444444,
             "#bd3786"
            ],
            [
             0.5555555555555556,
             "#d8576b"
            ],
            [
             0.6666666666666666,
             "#ed7953"
            ],
            [
             0.7777777777777778,
             "#fb9f3a"
            ],
            [
             0.8888888888888888,
             "#fdca26"
            ],
            [
             1,
             "#f0f921"
            ]
           ]
          },
          "colorway": [
           "#636efa",
           "#EF553B",
           "#00cc96",
           "#ab63fa",
           "#FFA15A",
           "#19d3f3",
           "#FF6692",
           "#B6E880",
           "#FF97FF",
           "#FECB52"
          ],
          "font": {
           "color": "#2a3f5f"
          },
          "geo": {
           "bgcolor": "white",
           "lakecolor": "white",
           "landcolor": "#E5ECF6",
           "showlakes": true,
           "showland": true,
           "subunitcolor": "white"
          },
          "hoverlabel": {
           "align": "left"
          },
          "hovermode": "closest",
          "mapbox": {
           "style": "light"
          },
          "paper_bgcolor": "white",
          "plot_bgcolor": "#E5ECF6",
          "polar": {
           "angularaxis": {
            "gridcolor": "white",
            "linecolor": "white",
            "ticks": ""
           },
           "bgcolor": "#E5ECF6",
           "radialaxis": {
            "gridcolor": "white",
            "linecolor": "white",
            "ticks": ""
           }
          },
          "scene": {
           "xaxis": {
            "backgroundcolor": "#E5ECF6",
            "gridcolor": "white",
            "gridwidth": 2,
            "linecolor": "white",
            "showbackground": true,
            "ticks": "",
            "zerolinecolor": "white"
           },
           "yaxis": {
            "backgroundcolor": "#E5ECF6",
            "gridcolor": "white",
            "gridwidth": 2,
            "linecolor": "white",
            "showbackground": true,
            "ticks": "",
            "zerolinecolor": "white"
           },
           "zaxis": {
            "backgroundcolor": "#E5ECF6",
            "gridcolor": "white",
            "gridwidth": 2,
            "linecolor": "white",
            "showbackground": true,
            "ticks": "",
            "zerolinecolor": "white"
           }
          },
          "shapedefaults": {
           "line": {
            "color": "#2a3f5f"
           }
          },
          "ternary": {
           "aaxis": {
            "gridcolor": "white",
            "linecolor": "white",
            "ticks": ""
           },
           "baxis": {
            "gridcolor": "white",
            "linecolor": "white",
            "ticks": ""
           },
           "bgcolor": "#E5ECF6",
           "caxis": {
            "gridcolor": "white",
            "linecolor": "white",
            "ticks": ""
           }
          },
          "title": {
           "x": 0.05
          },
          "xaxis": {
           "automargin": true,
           "gridcolor": "white",
           "linecolor": "white",
           "ticks": "",
           "title": {
            "standoff": 15
           },
           "zerolinecolor": "white",
           "zerolinewidth": 2
          },
          "yaxis": {
           "automargin": true,
           "gridcolor": "white",
           "linecolor": "white",
           "ticks": "",
           "title": {
            "standoff": 15
           },
           "zerolinecolor": "white",
           "zerolinewidth": 2
          }
         }
        },
        "width": 1100,
        "xaxis": {
         "anchor": "y",
         "domain": [
          0,
          1
         ],
         "tickfont": {
          "color": "black",
          "family": "Arial",
          "size": 16
         },
         "title": {
          "font": {
           "color": "black",
           "family": "Arial",
           "size": 18
          },
          "text": "Criticim vs. Agenda"
         }
        },
        "yaxis": {
         "anchor": "x",
         "domain": [
          0,
          1
         ],
         "title": {
          "font": {
           "color": "black",
           "family": "Arial",
           "size": 18
          },
          "text": "Fraction of paragraphs"
         }
        }
       }
      }
     },
     "metadata": {},
     "output_type": "display_data"
    }
   ],
   "source": [
    "# prepare the data for the plot\n",
    "df_grouped = data.groupby(['politician', 'criticism_or_agenda_human']).size().reset_index(name='count')\n",
    "df_grouped['total_per_politician'] = df_grouped.groupby('politician')['count'].transform('sum')\n",
    "df_grouped['proportion'] = round(df_grouped['count'] / df_grouped['total_per_politician'],2)\n",
    "df_grouped.drop(columns=['count', 'total_per_politician'], inplace=True)\n",
    "\n",
    "# plot the grouped bars\n",
    "color_map = {'Mitsotakis': '#007dea', 'Tsipras': '#ef4393', 'Androulakis': '#00cc44', 'Koutsoumpas': '#ff4d4d', 'Velopoulos': '#5cb2e5', 'Varoufakis': '#fd9347'}\n",
    "fig = px.bar(df_grouped, x='criticism_or_agenda_human', y='proportion', color='politician', text='proportion', barmode='group', color_discrete_map=color_map,\n",
    "             labels={'proportion': 'Fraction of paragraphs', 'criticism_or_agenda_human': 'Criticim vs. Agenda'}, text_auto=True)\n",
    "fig.update_traces(textposition='outside', textfont=dict(size=14, family='Arial'))\n",
    "\n",
    "# plot the lines (overall statistics)\n",
    "fig.add_shape(\n",
    "    type=\"line\",\n",
    "    x0=-0.45, x1=0.45, y0=0.39, y1=0.39,\n",
    "    line=dict(color=\"#666666\", width=3, dash=\"dash\"),\n",
    "    xref=\"x\", yref=\"y\")\n",
    "fig.add_shape(\n",
    "    type=\"line\",\n",
    "    x0=0.55, x1=1.45, y0=0.60, y1=0.60,\n",
    "    line=dict(color=\"#666666\", width=3, dash=\"dash\"),\n",
    "    xref=\"x\", yref=\"y\")\n",
    "fig.add_trace(go.Scatter(\n",
    "        x=[None], y=[None],\n",
    "        mode='lines',\n",
    "        line=dict(color=\"#666666\", width=3, dash=\"dash\"),\n",
    "        showlegend=True, name='Overall'))\n",
    "\n",
    "# adjust legend and figure size\n",
    "fig.update_layout(\n",
    "    width=1100, height=500,\n",
    "    legend_title_text='Politicians',\n",
    "    legend=dict(orientation=\"h\", yanchor=\"bottom\", y=1.0, xanchor=\"center\", x=0.5, font=dict(size=16, family='Arial')))\n",
    "\n",
    "# adjust axis\n",
    "fig.update_xaxes(title_font=dict(size=18, family='Arial', color='black'),\n",
    "    tickfont=dict(size=16, family='Arial', color='black'))\n",
    "fig.update_yaxes( title_font=dict(size=18, family='Arial', color='black'))\n",
    "\n",
    "fig.show()\n",
    "fig.write_image(\"images/criticism_agenda.png\", scale=2)"
   ]
  },
  {
   "cell_type": "markdown",
   "metadata": {},
   "source": [
    "In what topics are politicians' campaign speeches focused on?"
   ]
  },
  {
   "cell_type": "code",
   "execution_count": 4,
   "metadata": {},
   "outputs": [
    {
     "data": {
      "application/vnd.plotly.v1+json": {
       "config": {
        "plotlyServerURL": "https://plot.ly"
       },
       "data": [
        {
         "alignmentgroup": "True",
         "hovertemplate": "Topic=%{y}<br>Fraction  of paragraphs =%{text}<extra></extra>",
         "legendgroup": "elections",
         "marker": {
          "color": "#4575b4",
          "pattern": {
           "shape": ""
          }
         },
         "name": "elections",
         "offsetgroup": "elections",
         "orientation": "h",
         "showlegend": true,
         "text": [
          0.255
         ],
         "textfont": {
          "family": "Arial",
          "size": 14
         },
         "textposition": "outside",
         "type": "bar",
         "x": [
          0.255
         ],
         "xaxis": "x",
         "y": [
          "elections"
         ],
         "yaxis": "y"
        },
        {
         "alignmentgroup": "True",
         "hovertemplate": "Topic=%{y}<br>Fraction  of paragraphs =%{text}<extra></extra>",
         "legendgroup": "economy",
         "marker": {
          "color": "#4b79b6",
          "pattern": {
           "shape": ""
          }
         },
         "name": "economy",
         "offsetgroup": "economy",
         "orientation": "h",
         "showlegend": true,
         "text": [
          0.129
         ],
         "textfont": {
          "family": "Arial",
          "size": 14
         },
         "textposition": "outside",
         "type": "bar",
         "x": [
          0.129
         ],
         "xaxis": "x",
         "y": [
          "economy"
         ],
         "yaxis": "y"
        },
        {
         "alignmentgroup": "True",
         "hovertemplate": "Topic=%{y}<br>Fraction  of paragraphs =%{text}<extra></extra>",
         "legendgroup": "employment",
         "marker": {
          "color": "#517eb9",
          "pattern": {
           "shape": ""
          }
         },
         "name": "employment",
         "offsetgroup": "employment",
         "orientation": "h",
         "showlegend": true,
         "text": [
          0.062
         ],
         "textfont": {
          "family": "Arial",
          "size": 14
         },
         "textposition": "outside",
         "type": "bar",
         "x": [
          0.062
         ],
         "xaxis": "x",
         "y": [
          "employment"
         ],
         "yaxis": "y"
        },
        {
         "alignmentgroup": "True",
         "hovertemplate": "Topic=%{y}<br>Fraction  of paragraphs =%{text}<extra></extra>",
         "legendgroup": "health",
         "marker": {
          "color": "#5782bb",
          "pattern": {
           "shape": ""
          }
         },
         "name": "health",
         "offsetgroup": "health",
         "orientation": "h",
         "showlegend": true,
         "text": [
          0.053
         ],
         "textfont": {
          "family": "Arial",
          "size": 14
         },
         "textposition": "outside",
         "type": "bar",
         "x": [
          0.053
         ],
         "xaxis": "x",
         "y": [
          "health"
         ],
         "yaxis": "y"
        },
        {
         "alignmentgroup": "True",
         "hovertemplate": "Topic=%{y}<br>Fraction  of paragraphs =%{text}<extra></extra>",
         "legendgroup": "democracy",
         "marker": {
          "color": "#5d87be",
          "pattern": {
           "shape": ""
          }
         },
         "name": "democracy",
         "offsetgroup": "democracy",
         "orientation": "h",
         "showlegend": true,
         "text": [
          0.044
         ],
         "textfont": {
          "family": "Arial",
          "size": 14
         },
         "textposition": "outside",
         "type": "bar",
         "x": [
          0.044
         ],
         "xaxis": "x",
         "y": [
          "democracy"
         ],
         "yaxis": "y"
        },
        {
         "alignmentgroup": "True",
         "hovertemplate": "Topic=%{y}<br>Fraction  of paragraphs =%{text}<extra></extra>",
         "legendgroup": "other",
         "marker": {
          "color": "#628bc0",
          "pattern": {
           "shape": ""
          }
         },
         "name": "other",
         "offsetgroup": "other",
         "orientation": "h",
         "showlegend": true,
         "text": [
          0.034
         ],
         "textfont": {
          "family": "Arial",
          "size": 14
         },
         "textposition": "outside",
         "type": "bar",
         "x": [
          0.034
         ],
         "xaxis": "x",
         "y": [
          "other"
         ],
         "yaxis": "y"
        },
        {
         "alignmentgroup": "True",
         "hovertemplate": "Topic=%{y}<br>Fraction  of paragraphs =%{text}<extra></extra>",
         "legendgroup": "debt",
         "marker": {
          "color": "#6890c3",
          "pattern": {
           "shape": ""
          }
         },
         "name": "debt",
         "offsetgroup": "debt",
         "orientation": "h",
         "showlegend": true,
         "text": [
          0.031
         ],
         "textfont": {
          "family": "Arial",
          "size": 14
         },
         "textposition": "outside",
         "type": "bar",
         "x": [
          0.031
         ],
         "xaxis": "x",
         "y": [
          "debt"
         ],
         "yaxis": "y"
        },
        {
         "alignmentgroup": "True",
         "hovertemplate": "Topic=%{y}<br>Fraction  of paragraphs =%{text}<extra></extra>",
         "legendgroup": "housing",
         "marker": {
          "color": "#6e94c5",
          "pattern": {
           "shape": ""
          }
         },
         "name": "housing",
         "offsetgroup": "housing",
         "orientation": "h",
         "showlegend": true,
         "text": [
          0.03
         ],
         "textfont": {
          "family": "Arial",
          "size": 14
         },
         "textposition": "outside",
         "type": "bar",
         "x": [
          0.03
         ],
         "xaxis": "x",
         "y": [
          "housing"
         ],
         "yaxis": "y"
        },
        {
         "alignmentgroup": "True",
         "hovertemplate": "Topic=%{y}<br>Fraction  of paragraphs =%{text}<extra></extra>",
         "legendgroup": "education",
         "marker": {
          "color": "#7498c8",
          "pattern": {
           "shape": ""
          }
         },
         "name": "education",
         "offsetgroup": "education",
         "orientation": "h",
         "showlegend": true,
         "text": [
          0.028
         ],
         "textfont": {
          "family": "Arial",
          "size": 14
         },
         "textposition": "outside",
         "type": "bar",
         "x": [
          0.028
         ],
         "xaxis": "x",
         "y": [
          "education"
         ],
         "yaxis": "y"
        },
        {
         "alignmentgroup": "True",
         "hovertemplate": "Topic=%{y}<br>Fraction  of paragraphs =%{text}<extra></extra>",
         "legendgroup": "social state",
         "marker": {
          "color": "#7a9dca",
          "pattern": {
           "shape": ""
          }
         },
         "name": "social state",
         "offsetgroup": "social state",
         "orientation": "h",
         "showlegend": true,
         "text": [
          0.027
         ],
         "textfont": {
          "family": "Arial",
          "size": 14
         },
         "textposition": "outside",
         "type": "bar",
         "x": [
          0.027
         ],
         "xaxis": "x",
         "y": [
          "social state"
         ],
         "yaxis": "y"
        },
        {
         "alignmentgroup": "True",
         "hovertemplate": "Topic=%{y}<br>Fraction  of paragraphs =%{text}<extra></extra>",
         "legendgroup": "energy",
         "marker": {
          "color": "#80a1cd",
          "pattern": {
           "shape": ""
          }
         },
         "name": "energy",
         "offsetgroup": "energy",
         "orientation": "h",
         "showlegend": true,
         "text": [
          0.026
         ],
         "textfont": {
          "family": "Arial",
          "size": 14
         },
         "textposition": "outside",
         "type": "bar",
         "x": [
          0.026
         ],
         "xaxis": "x",
         "y": [
          "energy"
         ],
         "yaxis": "y"
        },
        {
         "alignmentgroup": "True",
         "hovertemplate": "Topic=%{y}<br>Fraction  of paragraphs =%{text}<extra></extra>",
         "legendgroup": "infrastructure",
         "marker": {
          "color": "#86a6cf",
          "pattern": {
           "shape": ""
          }
         },
         "name": "infrastructure",
         "offsetgroup": "infrastructure",
         "orientation": "h",
         "showlegend": true,
         "text": [
          0.023
         ],
         "textfont": {
          "family": "Arial",
          "size": 14
         },
         "textposition": "outside",
         "type": "bar",
         "x": [
          0.023
         ],
         "xaxis": "x",
         "y": [
          "infrastructure"
         ],
         "yaxis": "y"
        },
        {
         "alignmentgroup": "True",
         "hovertemplate": "Topic=%{y}<br>Fraction  of paragraphs =%{text}<extra></extra>",
         "legendgroup": "corruption",
         "marker": {
          "color": "#8caad2",
          "pattern": {
           "shape": ""
          }
         },
         "name": "corruption",
         "offsetgroup": "corruption",
         "orientation": "h",
         "showlegend": true,
         "text": [
          0.023
         ],
         "textfont": {
          "family": "Arial",
          "size": 14
         },
         "textposition": "outside",
         "type": "bar",
         "x": [
          0.023
         ],
         "xaxis": "x",
         "y": [
          "corruption"
         ],
         "yaxis": "y"
        },
        {
         "alignmentgroup": "True",
         "hovertemplate": "Topic=%{y}<br>Fraction  of paragraphs =%{text}<extra></extra>",
         "legendgroup": "external affairs",
         "marker": {
          "color": "#92aed4",
          "pattern": {
           "shape": ""
          }
         },
         "name": "external affairs",
         "offsetgroup": "external affairs",
         "orientation": "h",
         "showlegend": true,
         "text": [
          0.022
         ],
         "textfont": {
          "family": "Arial",
          "size": 14
         },
         "textposition": "outside",
         "type": "bar",
         "x": [
          0.022
         ],
         "xaxis": "x",
         "y": [
          "external affairs"
         ],
         "yaxis": "y"
        },
        {
         "alignmentgroup": "True",
         "hovertemplate": "Topic=%{y}<br>Fraction  of paragraphs =%{text}<extra></extra>",
         "legendgroup": "agricultural policy",
         "marker": {
          "color": "#98b3d7",
          "pattern": {
           "shape": ""
          }
         },
         "name": "agricultural policy",
         "offsetgroup": "agricultural policy",
         "orientation": "h",
         "showlegend": true,
         "text": [
          0.021
         ],
         "textfont": {
          "family": "Arial",
          "size": 14
         },
         "textposition": "outside",
         "type": "bar",
         "x": [
          0.021
         ],
         "xaxis": "x",
         "y": [
          "agricultural policy"
         ],
         "yaxis": "y"
        },
        {
         "alignmentgroup": "True",
         "hovertemplate": "Topic=%{y}<br>Fraction  of paragraphs =%{text}<extra></extra>",
         "legendgroup": "national security",
         "marker": {
          "color": "#9db7d9",
          "pattern": {
           "shape": ""
          }
         },
         "name": "national security",
         "offsetgroup": "national security",
         "orientation": "h",
         "showlegend": true,
         "text": [
          0.02
         ],
         "textfont": {
          "family": "Arial",
          "size": 14
         },
         "textposition": "outside",
         "type": "bar",
         "x": [
          0.02
         ],
         "xaxis": "x",
         "y": [
          "national security"
         ],
         "yaxis": "y"
        },
        {
         "alignmentgroup": "True",
         "hovertemplate": "Topic=%{y}<br>Fraction  of paragraphs =%{text}<extra></extra>",
         "legendgroup": "accountability",
         "marker": {
          "color": "#a3bcdc",
          "pattern": {
           "shape": ""
          }
         },
         "name": "accountability",
         "offsetgroup": "accountability",
         "orientation": "h",
         "showlegend": true,
         "text": [
          0.019
         ],
         "textfont": {
          "family": "Arial",
          "size": 14
         },
         "textposition": "outside",
         "type": "bar",
         "x": [
          0.019
         ],
         "xaxis": "x",
         "y": [
          "accountability"
         ],
         "yaxis": "y"
        },
        {
         "alignmentgroup": "True",
         "hovertemplate": "Topic=%{y}<br>Fraction  of paragraphs =%{text}<extra></extra>",
         "legendgroup": "privatization",
         "marker": {
          "color": "#a9c0de",
          "pattern": {
           "shape": ""
          }
         },
         "name": "privatization",
         "offsetgroup": "privatization",
         "orientation": "h",
         "showlegend": true,
         "text": [
          0.016
         ],
         "textfont": {
          "family": "Arial",
          "size": 14
         },
         "textposition": "outside",
         "type": "bar",
         "x": [
          0.016
         ],
         "xaxis": "x",
         "y": [
          "privatization"
         ],
         "yaxis": "y"
        },
        {
         "alignmentgroup": "True",
         "hovertemplate": "Topic=%{y}<br>Fraction  of paragraphs =%{text}<extra></extra>",
         "legendgroup": "pensioners",
         "marker": {
          "color": "#afc5e1",
          "pattern": {
           "shape": ""
          }
         },
         "name": "pensioners",
         "offsetgroup": "pensioners",
         "orientation": "h",
         "showlegend": true,
         "text": [
          0.016
         ],
         "textfont": {
          "family": "Arial",
          "size": 14
         },
         "textposition": "outside",
         "type": "bar",
         "x": [
          0.016
         ],
         "xaxis": "x",
         "y": [
          "pensioners"
         ],
         "yaxis": "y"
        },
        {
         "alignmentgroup": "True",
         "hovertemplate": "Topic=%{y}<br>Fraction  of paragraphs =%{text}<extra></extra>",
         "legendgroup": "migration",
         "marker": {
          "color": "#b5c9e3",
          "pattern": {
           "shape": ""
          }
         },
         "name": "migration",
         "offsetgroup": "migration",
         "orientation": "h",
         "showlegend": true,
         "text": [
          0.016
         ],
         "textfont": {
          "family": "Arial",
          "size": 14
         },
         "textposition": "outside",
         "type": "bar",
         "x": [
          0.016
         ],
         "xaxis": "x",
         "y": [
          "migration"
         ],
         "yaxis": "y"
        }
       ],
       "layout": {
        "barmode": "relative",
        "height": 500,
        "legend": {
         "title": {
          "text": "Topic"
         },
         "tracegroupgap": 0
        },
        "margin": {
         "t": 60
        },
        "showlegend": false,
        "template": {
         "data": {
          "bar": [
           {
            "error_x": {
             "color": "#2a3f5f"
            },
            "error_y": {
             "color": "#2a3f5f"
            },
            "marker": {
             "line": {
              "color": "#E5ECF6",
              "width": 0.5
             },
             "pattern": {
              "fillmode": "overlay",
              "size": 10,
              "solidity": 0.2
             }
            },
            "type": "bar"
           }
          ],
          "barpolar": [
           {
            "marker": {
             "line": {
              "color": "#E5ECF6",
              "width": 0.5
             },
             "pattern": {
              "fillmode": "overlay",
              "size": 10,
              "solidity": 0.2
             }
            },
            "type": "barpolar"
           }
          ],
          "carpet": [
           {
            "aaxis": {
             "endlinecolor": "#2a3f5f",
             "gridcolor": "white",
             "linecolor": "white",
             "minorgridcolor": "white",
             "startlinecolor": "#2a3f5f"
            },
            "baxis": {
             "endlinecolor": "#2a3f5f",
             "gridcolor": "white",
             "linecolor": "white",
             "minorgridcolor": "white",
             "startlinecolor": "#2a3f5f"
            },
            "type": "carpet"
           }
          ],
          "choropleth": [
           {
            "colorbar": {
             "outlinewidth": 0,
             "ticks": ""
            },
            "type": "choropleth"
           }
          ],
          "contour": [
           {
            "colorbar": {
             "outlinewidth": 0,
             "ticks": ""
            },
            "colorscale": [
             [
              0,
              "#0d0887"
             ],
             [
              0.1111111111111111,
              "#46039f"
             ],
             [
              0.2222222222222222,
              "#7201a8"
             ],
             [
              0.3333333333333333,
              "#9c179e"
             ],
             [
              0.4444444444444444,
              "#bd3786"
             ],
             [
              0.5555555555555556,
              "#d8576b"
             ],
             [
              0.6666666666666666,
              "#ed7953"
             ],
             [
              0.7777777777777778,
              "#fb9f3a"
             ],
             [
              0.8888888888888888,
              "#fdca26"
             ],
             [
              1,
              "#f0f921"
             ]
            ],
            "type": "contour"
           }
          ],
          "contourcarpet": [
           {
            "colorbar": {
             "outlinewidth": 0,
             "ticks": ""
            },
            "type": "contourcarpet"
           }
          ],
          "heatmap": [
           {
            "colorbar": {
             "outlinewidth": 0,
             "ticks": ""
            },
            "colorscale": [
             [
              0,
              "#0d0887"
             ],
             [
              0.1111111111111111,
              "#46039f"
             ],
             [
              0.2222222222222222,
              "#7201a8"
             ],
             [
              0.3333333333333333,
              "#9c179e"
             ],
             [
              0.4444444444444444,
              "#bd3786"
             ],
             [
              0.5555555555555556,
              "#d8576b"
             ],
             [
              0.6666666666666666,
              "#ed7953"
             ],
             [
              0.7777777777777778,
              "#fb9f3a"
             ],
             [
              0.8888888888888888,
              "#fdca26"
             ],
             [
              1,
              "#f0f921"
             ]
            ],
            "type": "heatmap"
           }
          ],
          "heatmapgl": [
           {
            "colorbar": {
             "outlinewidth": 0,
             "ticks": ""
            },
            "colorscale": [
             [
              0,
              "#0d0887"
             ],
             [
              0.1111111111111111,
              "#46039f"
             ],
             [
              0.2222222222222222,
              "#7201a8"
             ],
             [
              0.3333333333333333,
              "#9c179e"
             ],
             [
              0.4444444444444444,
              "#bd3786"
             ],
             [
              0.5555555555555556,
              "#d8576b"
             ],
             [
              0.6666666666666666,
              "#ed7953"
             ],
             [
              0.7777777777777778,
              "#fb9f3a"
             ],
             [
              0.8888888888888888,
              "#fdca26"
             ],
             [
              1,
              "#f0f921"
             ]
            ],
            "type": "heatmapgl"
           }
          ],
          "histogram": [
           {
            "marker": {
             "pattern": {
              "fillmode": "overlay",
              "size": 10,
              "solidity": 0.2
             }
            },
            "type": "histogram"
           }
          ],
          "histogram2d": [
           {
            "colorbar": {
             "outlinewidth": 0,
             "ticks": ""
            },
            "colorscale": [
             [
              0,
              "#0d0887"
             ],
             [
              0.1111111111111111,
              "#46039f"
             ],
             [
              0.2222222222222222,
              "#7201a8"
             ],
             [
              0.3333333333333333,
              "#9c179e"
             ],
             [
              0.4444444444444444,
              "#bd3786"
             ],
             [
              0.5555555555555556,
              "#d8576b"
             ],
             [
              0.6666666666666666,
              "#ed7953"
             ],
             [
              0.7777777777777778,
              "#fb9f3a"
             ],
             [
              0.8888888888888888,
              "#fdca26"
             ],
             [
              1,
              "#f0f921"
             ]
            ],
            "type": "histogram2d"
           }
          ],
          "histogram2dcontour": [
           {
            "colorbar": {
             "outlinewidth": 0,
             "ticks": ""
            },
            "colorscale": [
             [
              0,
              "#0d0887"
             ],
             [
              0.1111111111111111,
              "#46039f"
             ],
             [
              0.2222222222222222,
              "#7201a8"
             ],
             [
              0.3333333333333333,
              "#9c179e"
             ],
             [
              0.4444444444444444,
              "#bd3786"
             ],
             [
              0.5555555555555556,
              "#d8576b"
             ],
             [
              0.6666666666666666,
              "#ed7953"
             ],
             [
              0.7777777777777778,
              "#fb9f3a"
             ],
             [
              0.8888888888888888,
              "#fdca26"
             ],
             [
              1,
              "#f0f921"
             ]
            ],
            "type": "histogram2dcontour"
           }
          ],
          "mesh3d": [
           {
            "colorbar": {
             "outlinewidth": 0,
             "ticks": ""
            },
            "type": "mesh3d"
           }
          ],
          "parcoords": [
           {
            "line": {
             "colorbar": {
              "outlinewidth": 0,
              "ticks": ""
             }
            },
            "type": "parcoords"
           }
          ],
          "pie": [
           {
            "automargin": true,
            "type": "pie"
           }
          ],
          "scatter": [
           {
            "fillpattern": {
             "fillmode": "overlay",
             "size": 10,
             "solidity": 0.2
            },
            "type": "scatter"
           }
          ],
          "scatter3d": [
           {
            "line": {
             "colorbar": {
              "outlinewidth": 0,
              "ticks": ""
             }
            },
            "marker": {
             "colorbar": {
              "outlinewidth": 0,
              "ticks": ""
             }
            },
            "type": "scatter3d"
           }
          ],
          "scattercarpet": [
           {
            "marker": {
             "colorbar": {
              "outlinewidth": 0,
              "ticks": ""
             }
            },
            "type": "scattercarpet"
           }
          ],
          "scattergeo": [
           {
            "marker": {
             "colorbar": {
              "outlinewidth": 0,
              "ticks": ""
             }
            },
            "type": "scattergeo"
           }
          ],
          "scattergl": [
           {
            "marker": {
             "colorbar": {
              "outlinewidth": 0,
              "ticks": ""
             }
            },
            "type": "scattergl"
           }
          ],
          "scattermapbox": [
           {
            "marker": {
             "colorbar": {
              "outlinewidth": 0,
              "ticks": ""
             }
            },
            "type": "scattermapbox"
           }
          ],
          "scatterpolar": [
           {
            "marker": {
             "colorbar": {
              "outlinewidth": 0,
              "ticks": ""
             }
            },
            "type": "scatterpolar"
           }
          ],
          "scatterpolargl": [
           {
            "marker": {
             "colorbar": {
              "outlinewidth": 0,
              "ticks": ""
             }
            },
            "type": "scatterpolargl"
           }
          ],
          "scatterternary": [
           {
            "marker": {
             "colorbar": {
              "outlinewidth": 0,
              "ticks": ""
             }
            },
            "type": "scatterternary"
           }
          ],
          "surface": [
           {
            "colorbar": {
             "outlinewidth": 0,
             "ticks": ""
            },
            "colorscale": [
             [
              0,
              "#0d0887"
             ],
             [
              0.1111111111111111,
              "#46039f"
             ],
             [
              0.2222222222222222,
              "#7201a8"
             ],
             [
              0.3333333333333333,
              "#9c179e"
             ],
             [
              0.4444444444444444,
              "#bd3786"
             ],
             [
              0.5555555555555556,
              "#d8576b"
             ],
             [
              0.6666666666666666,
              "#ed7953"
             ],
             [
              0.7777777777777778,
              "#fb9f3a"
             ],
             [
              0.8888888888888888,
              "#fdca26"
             ],
             [
              1,
              "#f0f921"
             ]
            ],
            "type": "surface"
           }
          ],
          "table": [
           {
            "cells": {
             "fill": {
              "color": "#EBF0F8"
             },
             "line": {
              "color": "white"
             }
            },
            "header": {
             "fill": {
              "color": "#C8D4E3"
             },
             "line": {
              "color": "white"
             }
            },
            "type": "table"
           }
          ]
         },
         "layout": {
          "annotationdefaults": {
           "arrowcolor": "#2a3f5f",
           "arrowhead": 0,
           "arrowwidth": 1
          },
          "autotypenumbers": "strict",
          "coloraxis": {
           "colorbar": {
            "outlinewidth": 0,
            "ticks": ""
           }
          },
          "colorscale": {
           "diverging": [
            [
             0,
             "#8e0152"
            ],
            [
             0.1,
             "#c51b7d"
            ],
            [
             0.2,
             "#de77ae"
            ],
            [
             0.3,
             "#f1b6da"
            ],
            [
             0.4,
             "#fde0ef"
            ],
            [
             0.5,
             "#f7f7f7"
            ],
            [
             0.6,
             "#e6f5d0"
            ],
            [
             0.7,
             "#b8e186"
            ],
            [
             0.8,
             "#7fbc41"
            ],
            [
             0.9,
             "#4d9221"
            ],
            [
             1,
             "#276419"
            ]
           ],
           "sequential": [
            [
             0,
             "#0d0887"
            ],
            [
             0.1111111111111111,
             "#46039f"
            ],
            [
             0.2222222222222222,
             "#7201a8"
            ],
            [
             0.3333333333333333,
             "#9c179e"
            ],
            [
             0.4444444444444444,
             "#bd3786"
            ],
            [
             0.5555555555555556,
             "#d8576b"
            ],
            [
             0.6666666666666666,
             "#ed7953"
            ],
            [
             0.7777777777777778,
             "#fb9f3a"
            ],
            [
             0.8888888888888888,
             "#fdca26"
            ],
            [
             1,
             "#f0f921"
            ]
           ],
           "sequentialminus": [
            [
             0,
             "#0d0887"
            ],
            [
             0.1111111111111111,
             "#46039f"
            ],
            [
             0.2222222222222222,
             "#7201a8"
            ],
            [
             0.3333333333333333,
             "#9c179e"
            ],
            [
             0.4444444444444444,
             "#bd3786"
            ],
            [
             0.5555555555555556,
             "#d8576b"
            ],
            [
             0.6666666666666666,
             "#ed7953"
            ],
            [
             0.7777777777777778,
             "#fb9f3a"
            ],
            [
             0.8888888888888888,
             "#fdca26"
            ],
            [
             1,
             "#f0f921"
            ]
           ]
          },
          "colorway": [
           "#636efa",
           "#EF553B",
           "#00cc96",
           "#ab63fa",
           "#FFA15A",
           "#19d3f3",
           "#FF6692",
           "#B6E880",
           "#FF97FF",
           "#FECB52"
          ],
          "font": {
           "color": "#2a3f5f"
          },
          "geo": {
           "bgcolor": "white",
           "lakecolor": "white",
           "landcolor": "#E5ECF6",
           "showlakes": true,
           "showland": true,
           "subunitcolor": "white"
          },
          "hoverlabel": {
           "align": "left"
          },
          "hovermode": "closest",
          "mapbox": {
           "style": "light"
          },
          "paper_bgcolor": "white",
          "plot_bgcolor": "#E5ECF6",
          "polar": {
           "angularaxis": {
            "gridcolor": "white",
            "linecolor": "white",
            "ticks": ""
           },
           "bgcolor": "#E5ECF6",
           "radialaxis": {
            "gridcolor": "white",
            "linecolor": "white",
            "ticks": ""
           }
          },
          "scene": {
           "xaxis": {
            "backgroundcolor": "#E5ECF6",
            "gridcolor": "white",
            "gridwidth": 2,
            "linecolor": "white",
            "showbackground": true,
            "ticks": "",
            "zerolinecolor": "white"
           },
           "yaxis": {
            "backgroundcolor": "#E5ECF6",
            "gridcolor": "white",
            "gridwidth": 2,
            "linecolor": "white",
            "showbackground": true,
            "ticks": "",
            "zerolinecolor": "white"
           },
           "zaxis": {
            "backgroundcolor": "#E5ECF6",
            "gridcolor": "white",
            "gridwidth": 2,
            "linecolor": "white",
            "showbackground": true,
            "ticks": "",
            "zerolinecolor": "white"
           }
          },
          "shapedefaults": {
           "line": {
            "color": "#2a3f5f"
           }
          },
          "ternary": {
           "aaxis": {
            "gridcolor": "white",
            "linecolor": "white",
            "ticks": ""
           },
           "baxis": {
            "gridcolor": "white",
            "linecolor": "white",
            "ticks": ""
           },
           "bgcolor": "#E5ECF6",
           "caxis": {
            "gridcolor": "white",
            "linecolor": "white",
            "ticks": ""
           }
          },
          "title": {
           "x": 0.05
          },
          "xaxis": {
           "automargin": true,
           "gridcolor": "white",
           "linecolor": "white",
           "ticks": "",
           "title": {
            "standoff": 15
           },
           "zerolinecolor": "white",
           "zerolinewidth": 2
          },
          "yaxis": {
           "automargin": true,
           "gridcolor": "white",
           "linecolor": "white",
           "ticks": "",
           "title": {
            "standoff": 15
           },
           "zerolinecolor": "white",
           "zerolinewidth": 2
          }
         }
        },
        "width": 1100,
        "xaxis": {
         "anchor": "y",
         "domain": [
          0,
          1
         ],
         "title": {
          "font": {
           "color": "black",
           "family": "Arial",
           "size": 18
          },
          "text": "Fraction  of paragraphs "
         }
        },
        "yaxis": {
         "anchor": "x",
         "categoryarray": [
          "migration",
          "pensioners",
          "privatization",
          "accountability",
          "national security",
          "agricultural policy",
          "external affairs",
          "corruption",
          "infrastructure",
          "energy",
          "social state",
          "education",
          "housing",
          "debt",
          "other",
          "democracy",
          "health",
          "employment",
          "economy",
          "elections"
         ],
         "categoryorder": "total ascending",
         "domain": [
          0,
          1
         ],
         "tickfont": {
          "color": "black",
          "family": "Arial",
          "size": 14
         },
         "title": {
          "font": {
           "color": "black",
           "family": "Arial",
           "size": 18
          },
          "text": "Topic"
         }
        }
       }
      }
     },
     "metadata": {},
     "output_type": "display_data"
    }
   ],
   "source": [
    "# prepare the data for the plot\n",
    "topic_count = data['topic_human'].value_counts(normalize=True).reset_index()\n",
    "topic_count.columns = ['topic_human', 'count']\n",
    "topic_count['count'] = round(topic_count['count'], 3)\n",
    "topic_top20 = topic_count.head(20)\n",
    "\n",
    "# plot the horizontal bars\n",
    "cmap = mcolors.LinearSegmentedColormap.from_list('custom_blues', ['#4575b4', '#b5c9e3'], N=20)\n",
    "custom_colors = [mcolors.to_hex(cmap(i/19)) for i in range(20)]\n",
    "fig = px.bar(topic_top20, x='count', y='topic_human', orientation='h',\n",
    "             labels={'count': 'Fraction  of paragraphs ', 'topic_human': 'Topic'}, \n",
    "             color='topic_human', color_discrete_sequence=custom_colors, text='count')\n",
    "fig.update_layout(showlegend=False, yaxis={'categoryorder':'total ascending'}, width=1100, height=500)\n",
    "fig.update_traces(textposition='outside', textfont=dict(size=14, family='Arial'))\n",
    "\n",
    "# adjust axis\n",
    "fig.update_xaxes(title_font=dict(size=18, family='Arial', color='black'))\n",
    "fig.update_yaxes(title_font=dict(size=18, family='Arial', color='black'),\n",
    "                 tickfont=dict(size=14, family='Arial', color='black'))\n",
    "\n",
    "fig.show()\n",
    "fig.write_image(\"images/topics_horizontal_bars.png\", scale=2)"
   ]
  },
  {
   "cell_type": "code",
   "execution_count": 5,
   "metadata": {},
   "outputs": [
    {
     "data": {
      "application/vnd.plotly.v1+json": {
       "config": {
        "plotlyServerURL": "https://plot.ly"
       },
       "data": [
        {
         "alignmentgroup": "True",
         "hovertemplate": "politician=Androulakis<br>Topic=%{x}<br>Fraction of paragraphs=%{text}<extra></extra>",
         "legendgroup": "Androulakis",
         "marker": {
          "color": "#00cc44",
          "pattern": {
           "shape": ""
          }
         },
         "name": "Androulakis",
         "offsetgroup": "Androulakis",
         "orientation": "v",
         "showlegend": true,
         "text": [
          0.06,
          0.12,
          0.19,
          0.04,
          0.05
         ],
         "textfont": {
          "family": "Arial",
          "size": 14
         },
         "textposition": "outside",
         "texttemplate": "%{y}",
         "type": "bar",
         "x": [
          "democracy",
          "economy",
          "elections",
          "employment",
          "health"
         ],
         "xaxis": "x",
         "y": [
          0.06,
          0.12,
          0.19,
          0.04,
          0.05
         ],
         "yaxis": "y"
        },
        {
         "alignmentgroup": "True",
         "hovertemplate": "politician=Koutsoumpas<br>Topic=%{x}<br>Fraction of paragraphs=%{text}<extra></extra>",
         "legendgroup": "Koutsoumpas",
         "marker": {
          "color": "#ff4d4d",
          "pattern": {
           "shape": ""
          }
         },
         "name": "Koutsoumpas",
         "offsetgroup": "Koutsoumpas",
         "orientation": "v",
         "showlegend": true,
         "text": [
          0.04,
          0.11,
          0.33,
          0.1,
          0.04
         ],
         "textfont": {
          "family": "Arial",
          "size": 14
         },
         "textposition": "outside",
         "texttemplate": "%{y}",
         "type": "bar",
         "x": [
          "democracy",
          "economy",
          "elections",
          "employment",
          "health"
         ],
         "xaxis": "x",
         "y": [
          0.04,
          0.11,
          0.33,
          0.1,
          0.04
         ],
         "yaxis": "y"
        },
        {
         "alignmentgroup": "True",
         "hovertemplate": "politician=Mitsotakis<br>Topic=%{x}<br>Fraction of paragraphs=%{text}<extra></extra>",
         "legendgroup": "Mitsotakis",
         "marker": {
          "color": "#007dea",
          "pattern": {
           "shape": ""
          }
         },
         "name": "Mitsotakis",
         "offsetgroup": "Mitsotakis",
         "orientation": "v",
         "showlegend": true,
         "text": [
          0.02,
          0.11,
          0.32,
          0.06,
          0.05
         ],
         "textfont": {
          "family": "Arial",
          "size": 14
         },
         "textposition": "outside",
         "texttemplate": "%{y}",
         "type": "bar",
         "x": [
          "democracy",
          "economy",
          "elections",
          "employment",
          "health"
         ],
         "xaxis": "x",
         "y": [
          0.02,
          0.11,
          0.32,
          0.06,
          0.05
         ],
         "yaxis": "y"
        },
        {
         "alignmentgroup": "True",
         "hovertemplate": "politician=Tsipras<br>Topic=%{x}<br>Fraction of paragraphs=%{text}<extra></extra>",
         "legendgroup": "Tsipras",
         "marker": {
          "color": "#ef4393",
          "pattern": {
           "shape": ""
          }
         },
         "name": "Tsipras",
         "offsetgroup": "Tsipras",
         "orientation": "v",
         "showlegend": true,
         "text": [
          0.04,
          0.13,
          0.23,
          0.07,
          0.08
         ],
         "textfont": {
          "family": "Arial",
          "size": 14
         },
         "textposition": "outside",
         "texttemplate": "%{y}",
         "type": "bar",
         "x": [
          "democracy",
          "economy",
          "elections",
          "employment",
          "health"
         ],
         "xaxis": "x",
         "y": [
          0.04,
          0.13,
          0.23,
          0.07,
          0.08
         ],
         "yaxis": "y"
        },
        {
         "alignmentgroup": "True",
         "hovertemplate": "politician=Varoufakis<br>Topic=%{x}<br>Fraction of paragraphs=%{text}<extra></extra>",
         "legendgroup": "Varoufakis",
         "marker": {
          "color": "#fd9347",
          "pattern": {
           "shape": ""
          }
         },
         "name": "Varoufakis",
         "offsetgroup": "Varoufakis",
         "orientation": "v",
         "showlegend": true,
         "text": [
          0.08,
          0.21,
          0.19,
          0.02,
          0.01
         ],
         "textfont": {
          "family": "Arial",
          "size": 14
         },
         "textposition": "outside",
         "texttemplate": "%{y}",
         "type": "bar",
         "x": [
          "democracy",
          "economy",
          "elections",
          "employment",
          "health"
         ],
         "xaxis": "x",
         "y": [
          0.08,
          0.21,
          0.19,
          0.02,
          0.01
         ],
         "yaxis": "y"
        },
        {
         "alignmentgroup": "True",
         "hovertemplate": "politician=Velopoulos<br>Topic=%{x}<br>Fraction of paragraphs=%{text}<extra></extra>",
         "legendgroup": "Velopoulos",
         "marker": {
          "color": "#5cb2e5",
          "pattern": {
           "shape": ""
          }
         },
         "name": "Velopoulos",
         "offsetgroup": "Velopoulos",
         "orientation": "v",
         "showlegend": true,
         "text": [
          0.04,
          0.13,
          0.16,
          0.03,
          0.02
         ],
         "textfont": {
          "family": "Arial",
          "size": 14
         },
         "textposition": "outside",
         "texttemplate": "%{y}",
         "type": "bar",
         "x": [
          "democracy",
          "economy",
          "elections",
          "employment",
          "health"
         ],
         "xaxis": "x",
         "y": [
          0.04,
          0.13,
          0.16,
          0.03,
          0.02
         ],
         "yaxis": "y"
        }
       ],
       "layout": {
        "barmode": "group",
        "height": 500,
        "legend": {
         "font": {
          "family": "Arial",
          "size": 16
         },
         "orientation": "h",
         "title": {
          "text": "Politicians"
         },
         "tracegroupgap": 0,
         "x": 0.5,
         "xanchor": "center",
         "y": 1,
         "yanchor": "bottom"
        },
        "margin": {
         "t": 60
        },
        "template": {
         "data": {
          "bar": [
           {
            "error_x": {
             "color": "#2a3f5f"
            },
            "error_y": {
             "color": "#2a3f5f"
            },
            "marker": {
             "line": {
              "color": "#E5ECF6",
              "width": 0.5
             },
             "pattern": {
              "fillmode": "overlay",
              "size": 10,
              "solidity": 0.2
             }
            },
            "type": "bar"
           }
          ],
          "barpolar": [
           {
            "marker": {
             "line": {
              "color": "#E5ECF6",
              "width": 0.5
             },
             "pattern": {
              "fillmode": "overlay",
              "size": 10,
              "solidity": 0.2
             }
            },
            "type": "barpolar"
           }
          ],
          "carpet": [
           {
            "aaxis": {
             "endlinecolor": "#2a3f5f",
             "gridcolor": "white",
             "linecolor": "white",
             "minorgridcolor": "white",
             "startlinecolor": "#2a3f5f"
            },
            "baxis": {
             "endlinecolor": "#2a3f5f",
             "gridcolor": "white",
             "linecolor": "white",
             "minorgridcolor": "white",
             "startlinecolor": "#2a3f5f"
            },
            "type": "carpet"
           }
          ],
          "choropleth": [
           {
            "colorbar": {
             "outlinewidth": 0,
             "ticks": ""
            },
            "type": "choropleth"
           }
          ],
          "contour": [
           {
            "colorbar": {
             "outlinewidth": 0,
             "ticks": ""
            },
            "colorscale": [
             [
              0,
              "#0d0887"
             ],
             [
              0.1111111111111111,
              "#46039f"
             ],
             [
              0.2222222222222222,
              "#7201a8"
             ],
             [
              0.3333333333333333,
              "#9c179e"
             ],
             [
              0.4444444444444444,
              "#bd3786"
             ],
             [
              0.5555555555555556,
              "#d8576b"
             ],
             [
              0.6666666666666666,
              "#ed7953"
             ],
             [
              0.7777777777777778,
              "#fb9f3a"
             ],
             [
              0.8888888888888888,
              "#fdca26"
             ],
             [
              1,
              "#f0f921"
             ]
            ],
            "type": "contour"
           }
          ],
          "contourcarpet": [
           {
            "colorbar": {
             "outlinewidth": 0,
             "ticks": ""
            },
            "type": "contourcarpet"
           }
          ],
          "heatmap": [
           {
            "colorbar": {
             "outlinewidth": 0,
             "ticks": ""
            },
            "colorscale": [
             [
              0,
              "#0d0887"
             ],
             [
              0.1111111111111111,
              "#46039f"
             ],
             [
              0.2222222222222222,
              "#7201a8"
             ],
             [
              0.3333333333333333,
              "#9c179e"
             ],
             [
              0.4444444444444444,
              "#bd3786"
             ],
             [
              0.5555555555555556,
              "#d8576b"
             ],
             [
              0.6666666666666666,
              "#ed7953"
             ],
             [
              0.7777777777777778,
              "#fb9f3a"
             ],
             [
              0.8888888888888888,
              "#fdca26"
             ],
             [
              1,
              "#f0f921"
             ]
            ],
            "type": "heatmap"
           }
          ],
          "heatmapgl": [
           {
            "colorbar": {
             "outlinewidth": 0,
             "ticks": ""
            },
            "colorscale": [
             [
              0,
              "#0d0887"
             ],
             [
              0.1111111111111111,
              "#46039f"
             ],
             [
              0.2222222222222222,
              "#7201a8"
             ],
             [
              0.3333333333333333,
              "#9c179e"
             ],
             [
              0.4444444444444444,
              "#bd3786"
             ],
             [
              0.5555555555555556,
              "#d8576b"
             ],
             [
              0.6666666666666666,
              "#ed7953"
             ],
             [
              0.7777777777777778,
              "#fb9f3a"
             ],
             [
              0.8888888888888888,
              "#fdca26"
             ],
             [
              1,
              "#f0f921"
             ]
            ],
            "type": "heatmapgl"
           }
          ],
          "histogram": [
           {
            "marker": {
             "pattern": {
              "fillmode": "overlay",
              "size": 10,
              "solidity": 0.2
             }
            },
            "type": "histogram"
           }
          ],
          "histogram2d": [
           {
            "colorbar": {
             "outlinewidth": 0,
             "ticks": ""
            },
            "colorscale": [
             [
              0,
              "#0d0887"
             ],
             [
              0.1111111111111111,
              "#46039f"
             ],
             [
              0.2222222222222222,
              "#7201a8"
             ],
             [
              0.3333333333333333,
              "#9c179e"
             ],
             [
              0.4444444444444444,
              "#bd3786"
             ],
             [
              0.5555555555555556,
              "#d8576b"
             ],
             [
              0.6666666666666666,
              "#ed7953"
             ],
             [
              0.7777777777777778,
              "#fb9f3a"
             ],
             [
              0.8888888888888888,
              "#fdca26"
             ],
             [
              1,
              "#f0f921"
             ]
            ],
            "type": "histogram2d"
           }
          ],
          "histogram2dcontour": [
           {
            "colorbar": {
             "outlinewidth": 0,
             "ticks": ""
            },
            "colorscale": [
             [
              0,
              "#0d0887"
             ],
             [
              0.1111111111111111,
              "#46039f"
             ],
             [
              0.2222222222222222,
              "#7201a8"
             ],
             [
              0.3333333333333333,
              "#9c179e"
             ],
             [
              0.4444444444444444,
              "#bd3786"
             ],
             [
              0.5555555555555556,
              "#d8576b"
             ],
             [
              0.6666666666666666,
              "#ed7953"
             ],
             [
              0.7777777777777778,
              "#fb9f3a"
             ],
             [
              0.8888888888888888,
              "#fdca26"
             ],
             [
              1,
              "#f0f921"
             ]
            ],
            "type": "histogram2dcontour"
           }
          ],
          "mesh3d": [
           {
            "colorbar": {
             "outlinewidth": 0,
             "ticks": ""
            },
            "type": "mesh3d"
           }
          ],
          "parcoords": [
           {
            "line": {
             "colorbar": {
              "outlinewidth": 0,
              "ticks": ""
             }
            },
            "type": "parcoords"
           }
          ],
          "pie": [
           {
            "automargin": true,
            "type": "pie"
           }
          ],
          "scatter": [
           {
            "fillpattern": {
             "fillmode": "overlay",
             "size": 10,
             "solidity": 0.2
            },
            "type": "scatter"
           }
          ],
          "scatter3d": [
           {
            "line": {
             "colorbar": {
              "outlinewidth": 0,
              "ticks": ""
             }
            },
            "marker": {
             "colorbar": {
              "outlinewidth": 0,
              "ticks": ""
             }
            },
            "type": "scatter3d"
           }
          ],
          "scattercarpet": [
           {
            "marker": {
             "colorbar": {
              "outlinewidth": 0,
              "ticks": ""
             }
            },
            "type": "scattercarpet"
           }
          ],
          "scattergeo": [
           {
            "marker": {
             "colorbar": {
              "outlinewidth": 0,
              "ticks": ""
             }
            },
            "type": "scattergeo"
           }
          ],
          "scattergl": [
           {
            "marker": {
             "colorbar": {
              "outlinewidth": 0,
              "ticks": ""
             }
            },
            "type": "scattergl"
           }
          ],
          "scattermapbox": [
           {
            "marker": {
             "colorbar": {
              "outlinewidth": 0,
              "ticks": ""
             }
            },
            "type": "scattermapbox"
           }
          ],
          "scatterpolar": [
           {
            "marker": {
             "colorbar": {
              "outlinewidth": 0,
              "ticks": ""
             }
            },
            "type": "scatterpolar"
           }
          ],
          "scatterpolargl": [
           {
            "marker": {
             "colorbar": {
              "outlinewidth": 0,
              "ticks": ""
             }
            },
            "type": "scatterpolargl"
           }
          ],
          "scatterternary": [
           {
            "marker": {
             "colorbar": {
              "outlinewidth": 0,
              "ticks": ""
             }
            },
            "type": "scatterternary"
           }
          ],
          "surface": [
           {
            "colorbar": {
             "outlinewidth": 0,
             "ticks": ""
            },
            "colorscale": [
             [
              0,
              "#0d0887"
             ],
             [
              0.1111111111111111,
              "#46039f"
             ],
             [
              0.2222222222222222,
              "#7201a8"
             ],
             [
              0.3333333333333333,
              "#9c179e"
             ],
             [
              0.4444444444444444,
              "#bd3786"
             ],
             [
              0.5555555555555556,
              "#d8576b"
             ],
             [
              0.6666666666666666,
              "#ed7953"
             ],
             [
              0.7777777777777778,
              "#fb9f3a"
             ],
             [
              0.8888888888888888,
              "#fdca26"
             ],
             [
              1,
              "#f0f921"
             ]
            ],
            "type": "surface"
           }
          ],
          "table": [
           {
            "cells": {
             "fill": {
              "color": "#EBF0F8"
             },
             "line": {
              "color": "white"
             }
            },
            "header": {
             "fill": {
              "color": "#C8D4E3"
             },
             "line": {
              "color": "white"
             }
            },
            "type": "table"
           }
          ]
         },
         "layout": {
          "annotationdefaults": {
           "arrowcolor": "#2a3f5f",
           "arrowhead": 0,
           "arrowwidth": 1
          },
          "autotypenumbers": "strict",
          "coloraxis": {
           "colorbar": {
            "outlinewidth": 0,
            "ticks": ""
           }
          },
          "colorscale": {
           "diverging": [
            [
             0,
             "#8e0152"
            ],
            [
             0.1,
             "#c51b7d"
            ],
            [
             0.2,
             "#de77ae"
            ],
            [
             0.3,
             "#f1b6da"
            ],
            [
             0.4,
             "#fde0ef"
            ],
            [
             0.5,
             "#f7f7f7"
            ],
            [
             0.6,
             "#e6f5d0"
            ],
            [
             0.7,
             "#b8e186"
            ],
            [
             0.8,
             "#7fbc41"
            ],
            [
             0.9,
             "#4d9221"
            ],
            [
             1,
             "#276419"
            ]
           ],
           "sequential": [
            [
             0,
             "#0d0887"
            ],
            [
             0.1111111111111111,
             "#46039f"
            ],
            [
             0.2222222222222222,
             "#7201a8"
            ],
            [
             0.3333333333333333,
             "#9c179e"
            ],
            [
             0.4444444444444444,
             "#bd3786"
            ],
            [
             0.5555555555555556,
             "#d8576b"
            ],
            [
             0.6666666666666666,
             "#ed7953"
            ],
            [
             0.7777777777777778,
             "#fb9f3a"
            ],
            [
             0.8888888888888888,
             "#fdca26"
            ],
            [
             1,
             "#f0f921"
            ]
           ],
           "sequentialminus": [
            [
             0,
             "#0d0887"
            ],
            [
             0.1111111111111111,
             "#46039f"
            ],
            [
             0.2222222222222222,
             "#7201a8"
            ],
            [
             0.3333333333333333,
             "#9c179e"
            ],
            [
             0.4444444444444444,
             "#bd3786"
            ],
            [
             0.5555555555555556,
             "#d8576b"
            ],
            [
             0.6666666666666666,
             "#ed7953"
            ],
            [
             0.7777777777777778,
             "#fb9f3a"
            ],
            [
             0.8888888888888888,
             "#fdca26"
            ],
            [
             1,
             "#f0f921"
            ]
           ]
          },
          "colorway": [
           "#636efa",
           "#EF553B",
           "#00cc96",
           "#ab63fa",
           "#FFA15A",
           "#19d3f3",
           "#FF6692",
           "#B6E880",
           "#FF97FF",
           "#FECB52"
          ],
          "font": {
           "color": "#2a3f5f"
          },
          "geo": {
           "bgcolor": "white",
           "lakecolor": "white",
           "landcolor": "#E5ECF6",
           "showlakes": true,
           "showland": true,
           "subunitcolor": "white"
          },
          "hoverlabel": {
           "align": "left"
          },
          "hovermode": "closest",
          "mapbox": {
           "style": "light"
          },
          "paper_bgcolor": "white",
          "plot_bgcolor": "#E5ECF6",
          "polar": {
           "angularaxis": {
            "gridcolor": "white",
            "linecolor": "white",
            "ticks": ""
           },
           "bgcolor": "#E5ECF6",
           "radialaxis": {
            "gridcolor": "white",
            "linecolor": "white",
            "ticks": ""
           }
          },
          "scene": {
           "xaxis": {
            "backgroundcolor": "#E5ECF6",
            "gridcolor": "white",
            "gridwidth": 2,
            "linecolor": "white",
            "showbackground": true,
            "ticks": "",
            "zerolinecolor": "white"
           },
           "yaxis": {
            "backgroundcolor": "#E5ECF6",
            "gridcolor": "white",
            "gridwidth": 2,
            "linecolor": "white",
            "showbackground": true,
            "ticks": "",
            "zerolinecolor": "white"
           },
           "zaxis": {
            "backgroundcolor": "#E5ECF6",
            "gridcolor": "white",
            "gridwidth": 2,
            "linecolor": "white",
            "showbackground": true,
            "ticks": "",
            "zerolinecolor": "white"
           }
          },
          "shapedefaults": {
           "line": {
            "color": "#2a3f5f"
           }
          },
          "ternary": {
           "aaxis": {
            "gridcolor": "white",
            "linecolor": "white",
            "ticks": ""
           },
           "baxis": {
            "gridcolor": "white",
            "linecolor": "white",
            "ticks": ""
           },
           "bgcolor": "#E5ECF6",
           "caxis": {
            "gridcolor": "white",
            "linecolor": "white",
            "ticks": ""
           }
          },
          "title": {
           "x": 0.05
          },
          "xaxis": {
           "automargin": true,
           "gridcolor": "white",
           "linecolor": "white",
           "ticks": "",
           "title": {
            "standoff": 15
           },
           "zerolinecolor": "white",
           "zerolinewidth": 2
          },
          "yaxis": {
           "automargin": true,
           "gridcolor": "white",
           "linecolor": "white",
           "ticks": "",
           "title": {
            "standoff": 15
           },
           "zerolinecolor": "white",
           "zerolinewidth": 2
          }
         }
        },
        "width": 1100,
        "xaxis": {
         "anchor": "y",
         "categoryarray": [
          "elections",
          "economy",
          "employment"
         ],
         "categoryorder": "array",
         "domain": [
          0,
          1
         ],
         "tickfont": {
          "color": "black",
          "family": "Arial",
          "size": 16
         },
         "title": {
          "font": {
           "color": "black",
           "family": "Arial",
           "size": 18
          },
          "text": "Topic"
         }
        },
        "yaxis": {
         "anchor": "x",
         "domain": [
          0,
          1
         ],
         "title": {
          "font": {
           "color": "black",
           "family": "Arial",
           "size": 18
          },
          "text": "Fraction of paragraphs"
         }
        }
       }
      }
     },
     "metadata": {},
     "output_type": "display_data"
    }
   ],
   "source": [
    "# prepare the data for the plot\n",
    "top_topics = data['topic_human'].value_counts().head(5).index\n",
    "filtered_data = data[data['topic_human'].isin(top_topics)]\n",
    "grouped_data = filtered_data.groupby(['politician', 'topic_human']).size().reset_index(name='count')\n",
    "grouped_data\n",
    "\n",
    "total_rows_per_politician = data.groupby('politician').size().reset_index(name='total_rows')\n",
    "grouped_data = pd.merge(grouped_data, total_rows_per_politician, on='politician')\n",
    "grouped_data['normalized_count'] = round(grouped_data['count']/grouped_data['total_rows'],2)\n",
    "\n",
    "# plot the grouped bars\n",
    "color_map = {'Mitsotakis': '#007dea', 'Tsipras': '#ef4393', 'Androulakis': '#00cc44', 'Koutsoumpas': '#ff4d4d', 'Velopoulos': '#5cb2e5', 'Varoufakis': '#fd9347'}\n",
    "\n",
    "fig = px.bar(grouped_data, x='topic_human', y='normalized_count', color='politician', text='normalized_count', barmode='group', color_discrete_map=color_map,\n",
    "             labels={'normalized_count': 'Fraction of paragraphs', 'topic_human': 'Topic'}, category_orders={'topic_human': ['elections', 'economy', 'employment']}, text_auto=True)\n",
    "fig.update_traces(textposition='outside', textfont=dict(size=14, family='Arial'))\n",
    "\n",
    "# adjust legend and figure size\n",
    "fig.update_layout(width=1100, height=500,legend_title_text='Politicians',\n",
    "    legend=dict(orientation=\"h\", yanchor=\"bottom\", y=1.0, xanchor=\"center\", x=0.5, font=dict(size=16, family='Arial')))\n",
    "\n",
    "# adjust axis\n",
    "fig.update_xaxes(title_font=dict(size=18, family='Arial', color='black'),\n",
    "    tickfont=dict(size=16, family='Arial', color='black'))\n",
    "fig.update_yaxes( title_font=dict(size=18, family='Arial', color='black'))\n",
    "\n",
    "fig.show()\n",
    "fig.write_image(\"images/topics_grouped_bars.png\", scale=2)"
   ]
  },
  {
   "cell_type": "markdown",
   "metadata": {},
   "source": [
    "What is the prevalent sentiment in politicians' speeches?"
   ]
  },
  {
   "cell_type": "code",
   "execution_count": 6,
   "metadata": {},
   "outputs": [
    {
     "data": {
      "application/vnd.plotly.v1+json": {
       "config": {
        "plotlyServerURL": "https://plot.ly"
       },
       "data": [
        {
         "alignmentgroup": "True",
         "hovertemplate": "politician=Androulakis<br>Sentiment level=%{x}<br>Fraction of paragraphs=%{text}<extra></extra>",
         "legendgroup": "Androulakis",
         "marker": {
          "color": "#00cc44",
          "pattern": {
           "shape": ""
          }
         },
         "name": "Androulakis",
         "offsetgroup": "Androulakis",
         "orientation": "v",
         "showlegend": true,
         "text": [
          0.36,
          0.26,
          0.38
         ],
         "textfont": {
          "family": "Arial",
          "size": 14
         },
         "textposition": "outside",
         "texttemplate": "%{y}",
         "type": "bar",
         "x": [
          "negative",
          "neutral",
          "positive"
         ],
         "xaxis": "x",
         "y": [
          0.36,
          0.26,
          0.38
         ],
         "yaxis": "y"
        },
        {
         "alignmentgroup": "True",
         "hovertemplate": "politician=Koutsoumpas<br>Sentiment level=%{x}<br>Fraction of paragraphs=%{text}<extra></extra>",
         "legendgroup": "Koutsoumpas",
         "marker": {
          "color": "#ff4d4d",
          "pattern": {
           "shape": ""
          }
         },
         "name": "Koutsoumpas",
         "offsetgroup": "Koutsoumpas",
         "orientation": "v",
         "showlegend": true,
         "text": [
          0.57,
          0.23,
          0.21
         ],
         "textfont": {
          "family": "Arial",
          "size": 14
         },
         "textposition": "outside",
         "texttemplate": "%{y}",
         "type": "bar",
         "x": [
          "negative",
          "neutral",
          "positive"
         ],
         "xaxis": "x",
         "y": [
          0.57,
          0.23,
          0.21
         ],
         "yaxis": "y"
        },
        {
         "alignmentgroup": "True",
         "hovertemplate": "politician=Mitsotakis<br>Sentiment level=%{x}<br>Fraction of paragraphs=%{text}<extra></extra>",
         "legendgroup": "Mitsotakis",
         "marker": {
          "color": "#007dea",
          "pattern": {
           "shape": ""
          }
         },
         "name": "Mitsotakis",
         "offsetgroup": "Mitsotakis",
         "orientation": "v",
         "showlegend": true,
         "text": [
          0.08,
          0.18,
          0.74
         ],
         "textfont": {
          "family": "Arial",
          "size": 14
         },
         "textposition": "outside",
         "texttemplate": "%{y}",
         "type": "bar",
         "x": [
          "negative",
          "neutral",
          "positive"
         ],
         "xaxis": "x",
         "y": [
          0.08,
          0.18,
          0.74
         ],
         "yaxis": "y"
        },
        {
         "alignmentgroup": "True",
         "hovertemplate": "politician=Tsipras<br>Sentiment level=%{x}<br>Fraction of paragraphs=%{text}<extra></extra>",
         "legendgroup": "Tsipras",
         "marker": {
          "color": "#ef4393",
          "pattern": {
           "shape": ""
          }
         },
         "name": "Tsipras",
         "offsetgroup": "Tsipras",
         "orientation": "v",
         "showlegend": true,
         "text": [
          0.44,
          0.16,
          0.4
         ],
         "textfont": {
          "family": "Arial",
          "size": 14
         },
         "textposition": "outside",
         "texttemplate": "%{y}",
         "type": "bar",
         "x": [
          "negative",
          "neutral",
          "positive"
         ],
         "xaxis": "x",
         "y": [
          0.44,
          0.16,
          0.4
         ],
         "yaxis": "y"
        },
        {
         "alignmentgroup": "True",
         "hovertemplate": "politician=Varoufakis<br>Sentiment level=%{x}<br>Fraction of paragraphs=%{text}<extra></extra>",
         "legendgroup": "Varoufakis",
         "marker": {
          "color": "#fd9347",
          "pattern": {
           "shape": ""
          }
         },
         "name": "Varoufakis",
         "offsetgroup": "Varoufakis",
         "orientation": "v",
         "showlegend": true,
         "text": [
          0.49,
          0.39,
          0.12
         ],
         "textfont": {
          "family": "Arial",
          "size": 14
         },
         "textposition": "outside",
         "texttemplate": "%{y}",
         "type": "bar",
         "x": [
          "negative",
          "neutral",
          "positive"
         ],
         "xaxis": "x",
         "y": [
          0.49,
          0.39,
          0.12
         ],
         "yaxis": "y"
        },
        {
         "alignmentgroup": "True",
         "hovertemplate": "politician=Velopoulos<br>Sentiment level=%{x}<br>Fraction of paragraphs=%{text}<extra></extra>",
         "legendgroup": "Velopoulos",
         "marker": {
          "color": "#5cb2e5",
          "pattern": {
           "shape": ""
          }
         },
         "name": "Velopoulos",
         "offsetgroup": "Velopoulos",
         "orientation": "v",
         "showlegend": true,
         "text": [
          0.73,
          0.2,
          0.07
         ],
         "textfont": {
          "family": "Arial",
          "size": 14
         },
         "textposition": "outside",
         "texttemplate": "%{y}",
         "type": "bar",
         "x": [
          "negative",
          "neutral",
          "positive"
         ],
         "xaxis": "x",
         "y": [
          0.73,
          0.2,
          0.07
         ],
         "yaxis": "y"
        },
        {
         "line": {
          "color": "#666666",
          "dash": "dash",
          "width": 3
         },
         "mode": "lines",
         "name": "Overall",
         "showlegend": true,
         "type": "scatter",
         "x": [
          null
         ],
         "y": [
          null
         ]
        }
       ],
       "layout": {
        "barmode": "group",
        "height": 500,
        "legend": {
         "font": {
          "family": "Arial",
          "size": 16
         },
         "orientation": "h",
         "title": {
          "text": "Politicians"
         },
         "tracegroupgap": 0,
         "x": 0.5,
         "xanchor": "center",
         "y": 1,
         "yanchor": "bottom"
        },
        "margin": {
         "t": 60
        },
        "shapes": [
         {
          "line": {
           "color": "#666666",
           "dash": "dash",
           "width": 3
          },
          "type": "line",
          "x0": -0.45,
          "x1": 0.45,
          "xref": "x",
          "y0": 0.36,
          "y1": 0.36,
          "yref": "y"
         },
         {
          "line": {
           "color": "#666666",
           "dash": "dash",
           "width": 3
          },
          "type": "line",
          "x0": 0.55,
          "x1": 1.45,
          "xref": "x",
          "y0": 0.21,
          "y1": 0.21,
          "yref": "y"
         },
         {
          "line": {
           "color": "#666666",
           "dash": "dash",
           "width": 3
          },
          "type": "line",
          "x0": 1.55,
          "x1": 2.45,
          "xref": "x",
          "y0": 0.42,
          "y1": 0.42,
          "yref": "y"
         }
        ],
        "template": {
         "data": {
          "bar": [
           {
            "error_x": {
             "color": "#2a3f5f"
            },
            "error_y": {
             "color": "#2a3f5f"
            },
            "marker": {
             "line": {
              "color": "#E5ECF6",
              "width": 0.5
             },
             "pattern": {
              "fillmode": "overlay",
              "size": 10,
              "solidity": 0.2
             }
            },
            "type": "bar"
           }
          ],
          "barpolar": [
           {
            "marker": {
             "line": {
              "color": "#E5ECF6",
              "width": 0.5
             },
             "pattern": {
              "fillmode": "overlay",
              "size": 10,
              "solidity": 0.2
             }
            },
            "type": "barpolar"
           }
          ],
          "carpet": [
           {
            "aaxis": {
             "endlinecolor": "#2a3f5f",
             "gridcolor": "white",
             "linecolor": "white",
             "minorgridcolor": "white",
             "startlinecolor": "#2a3f5f"
            },
            "baxis": {
             "endlinecolor": "#2a3f5f",
             "gridcolor": "white",
             "linecolor": "white",
             "minorgridcolor": "white",
             "startlinecolor": "#2a3f5f"
            },
            "type": "carpet"
           }
          ],
          "choropleth": [
           {
            "colorbar": {
             "outlinewidth": 0,
             "ticks": ""
            },
            "type": "choropleth"
           }
          ],
          "contour": [
           {
            "colorbar": {
             "outlinewidth": 0,
             "ticks": ""
            },
            "colorscale": [
             [
              0,
              "#0d0887"
             ],
             [
              0.1111111111111111,
              "#46039f"
             ],
             [
              0.2222222222222222,
              "#7201a8"
             ],
             [
              0.3333333333333333,
              "#9c179e"
             ],
             [
              0.4444444444444444,
              "#bd3786"
             ],
             [
              0.5555555555555556,
              "#d8576b"
             ],
             [
              0.6666666666666666,
              "#ed7953"
             ],
             [
              0.7777777777777778,
              "#fb9f3a"
             ],
             [
              0.8888888888888888,
              "#fdca26"
             ],
             [
              1,
              "#f0f921"
             ]
            ],
            "type": "contour"
           }
          ],
          "contourcarpet": [
           {
            "colorbar": {
             "outlinewidth": 0,
             "ticks": ""
            },
            "type": "contourcarpet"
           }
          ],
          "heatmap": [
           {
            "colorbar": {
             "outlinewidth": 0,
             "ticks": ""
            },
            "colorscale": [
             [
              0,
              "#0d0887"
             ],
             [
              0.1111111111111111,
              "#46039f"
             ],
             [
              0.2222222222222222,
              "#7201a8"
             ],
             [
              0.3333333333333333,
              "#9c179e"
             ],
             [
              0.4444444444444444,
              "#bd3786"
             ],
             [
              0.5555555555555556,
              "#d8576b"
             ],
             [
              0.6666666666666666,
              "#ed7953"
             ],
             [
              0.7777777777777778,
              "#fb9f3a"
             ],
             [
              0.8888888888888888,
              "#fdca26"
             ],
             [
              1,
              "#f0f921"
             ]
            ],
            "type": "heatmap"
           }
          ],
          "heatmapgl": [
           {
            "colorbar": {
             "outlinewidth": 0,
             "ticks": ""
            },
            "colorscale": [
             [
              0,
              "#0d0887"
             ],
             [
              0.1111111111111111,
              "#46039f"
             ],
             [
              0.2222222222222222,
              "#7201a8"
             ],
             [
              0.3333333333333333,
              "#9c179e"
             ],
             [
              0.4444444444444444,
              "#bd3786"
             ],
             [
              0.5555555555555556,
              "#d8576b"
             ],
             [
              0.6666666666666666,
              "#ed7953"
             ],
             [
              0.7777777777777778,
              "#fb9f3a"
             ],
             [
              0.8888888888888888,
              "#fdca26"
             ],
             [
              1,
              "#f0f921"
             ]
            ],
            "type": "heatmapgl"
           }
          ],
          "histogram": [
           {
            "marker": {
             "pattern": {
              "fillmode": "overlay",
              "size": 10,
              "solidity": 0.2
             }
            },
            "type": "histogram"
           }
          ],
          "histogram2d": [
           {
            "colorbar": {
             "outlinewidth": 0,
             "ticks": ""
            },
            "colorscale": [
             [
              0,
              "#0d0887"
             ],
             [
              0.1111111111111111,
              "#46039f"
             ],
             [
              0.2222222222222222,
              "#7201a8"
             ],
             [
              0.3333333333333333,
              "#9c179e"
             ],
             [
              0.4444444444444444,
              "#bd3786"
             ],
             [
              0.5555555555555556,
              "#d8576b"
             ],
             [
              0.6666666666666666,
              "#ed7953"
             ],
             [
              0.7777777777777778,
              "#fb9f3a"
             ],
             [
              0.8888888888888888,
              "#fdca26"
             ],
             [
              1,
              "#f0f921"
             ]
            ],
            "type": "histogram2d"
           }
          ],
          "histogram2dcontour": [
           {
            "colorbar": {
             "outlinewidth": 0,
             "ticks": ""
            },
            "colorscale": [
             [
              0,
              "#0d0887"
             ],
             [
              0.1111111111111111,
              "#46039f"
             ],
             [
              0.2222222222222222,
              "#7201a8"
             ],
             [
              0.3333333333333333,
              "#9c179e"
             ],
             [
              0.4444444444444444,
              "#bd3786"
             ],
             [
              0.5555555555555556,
              "#d8576b"
             ],
             [
              0.6666666666666666,
              "#ed7953"
             ],
             [
              0.7777777777777778,
              "#fb9f3a"
             ],
             [
              0.8888888888888888,
              "#fdca26"
             ],
             [
              1,
              "#f0f921"
             ]
            ],
            "type": "histogram2dcontour"
           }
          ],
          "mesh3d": [
           {
            "colorbar": {
             "outlinewidth": 0,
             "ticks": ""
            },
            "type": "mesh3d"
           }
          ],
          "parcoords": [
           {
            "line": {
             "colorbar": {
              "outlinewidth": 0,
              "ticks": ""
             }
            },
            "type": "parcoords"
           }
          ],
          "pie": [
           {
            "automargin": true,
            "type": "pie"
           }
          ],
          "scatter": [
           {
            "fillpattern": {
             "fillmode": "overlay",
             "size": 10,
             "solidity": 0.2
            },
            "type": "scatter"
           }
          ],
          "scatter3d": [
           {
            "line": {
             "colorbar": {
              "outlinewidth": 0,
              "ticks": ""
             }
            },
            "marker": {
             "colorbar": {
              "outlinewidth": 0,
              "ticks": ""
             }
            },
            "type": "scatter3d"
           }
          ],
          "scattercarpet": [
           {
            "marker": {
             "colorbar": {
              "outlinewidth": 0,
              "ticks": ""
             }
            },
            "type": "scattercarpet"
           }
          ],
          "scattergeo": [
           {
            "marker": {
             "colorbar": {
              "outlinewidth": 0,
              "ticks": ""
             }
            },
            "type": "scattergeo"
           }
          ],
          "scattergl": [
           {
            "marker": {
             "colorbar": {
              "outlinewidth": 0,
              "ticks": ""
             }
            },
            "type": "scattergl"
           }
          ],
          "scattermapbox": [
           {
            "marker": {
             "colorbar": {
              "outlinewidth": 0,
              "ticks": ""
             }
            },
            "type": "scattermapbox"
           }
          ],
          "scatterpolar": [
           {
            "marker": {
             "colorbar": {
              "outlinewidth": 0,
              "ticks": ""
             }
            },
            "type": "scatterpolar"
           }
          ],
          "scatterpolargl": [
           {
            "marker": {
             "colorbar": {
              "outlinewidth": 0,
              "ticks": ""
             }
            },
            "type": "scatterpolargl"
           }
          ],
          "scatterternary": [
           {
            "marker": {
             "colorbar": {
              "outlinewidth": 0,
              "ticks": ""
             }
            },
            "type": "scatterternary"
           }
          ],
          "surface": [
           {
            "colorbar": {
             "outlinewidth": 0,
             "ticks": ""
            },
            "colorscale": [
             [
              0,
              "#0d0887"
             ],
             [
              0.1111111111111111,
              "#46039f"
             ],
             [
              0.2222222222222222,
              "#7201a8"
             ],
             [
              0.3333333333333333,
              "#9c179e"
             ],
             [
              0.4444444444444444,
              "#bd3786"
             ],
             [
              0.5555555555555556,
              "#d8576b"
             ],
             [
              0.6666666666666666,
              "#ed7953"
             ],
             [
              0.7777777777777778,
              "#fb9f3a"
             ],
             [
              0.8888888888888888,
              "#fdca26"
             ],
             [
              1,
              "#f0f921"
             ]
            ],
            "type": "surface"
           }
          ],
          "table": [
           {
            "cells": {
             "fill": {
              "color": "#EBF0F8"
             },
             "line": {
              "color": "white"
             }
            },
            "header": {
             "fill": {
              "color": "#C8D4E3"
             },
             "line": {
              "color": "white"
             }
            },
            "type": "table"
           }
          ]
         },
         "layout": {
          "annotationdefaults": {
           "arrowcolor": "#2a3f5f",
           "arrowhead": 0,
           "arrowwidth": 1
          },
          "autotypenumbers": "strict",
          "coloraxis": {
           "colorbar": {
            "outlinewidth": 0,
            "ticks": ""
           }
          },
          "colorscale": {
           "diverging": [
            [
             0,
             "#8e0152"
            ],
            [
             0.1,
             "#c51b7d"
            ],
            [
             0.2,
             "#de77ae"
            ],
            [
             0.3,
             "#f1b6da"
            ],
            [
             0.4,
             "#fde0ef"
            ],
            [
             0.5,
             "#f7f7f7"
            ],
            [
             0.6,
             "#e6f5d0"
            ],
            [
             0.7,
             "#b8e186"
            ],
            [
             0.8,
             "#7fbc41"
            ],
            [
             0.9,
             "#4d9221"
            ],
            [
             1,
             "#276419"
            ]
           ],
           "sequential": [
            [
             0,
             "#0d0887"
            ],
            [
             0.1111111111111111,
             "#46039f"
            ],
            [
             0.2222222222222222,
             "#7201a8"
            ],
            [
             0.3333333333333333,
             "#9c179e"
            ],
            [
             0.4444444444444444,
             "#bd3786"
            ],
            [
             0.5555555555555556,
             "#d8576b"
            ],
            [
             0.6666666666666666,
             "#ed7953"
            ],
            [
             0.7777777777777778,
             "#fb9f3a"
            ],
            [
             0.8888888888888888,
             "#fdca26"
            ],
            [
             1,
             "#f0f921"
            ]
           ],
           "sequentialminus": [
            [
             0,
             "#0d0887"
            ],
            [
             0.1111111111111111,
             "#46039f"
            ],
            [
             0.2222222222222222,
             "#7201a8"
            ],
            [
             0.3333333333333333,
             "#9c179e"
            ],
            [
             0.4444444444444444,
             "#bd3786"
            ],
            [
             0.5555555555555556,
             "#d8576b"
            ],
            [
             0.6666666666666666,
             "#ed7953"
            ],
            [
             0.7777777777777778,
             "#fb9f3a"
            ],
            [
             0.8888888888888888,
             "#fdca26"
            ],
            [
             1,
             "#f0f921"
            ]
           ]
          },
          "colorway": [
           "#636efa",
           "#EF553B",
           "#00cc96",
           "#ab63fa",
           "#FFA15A",
           "#19d3f3",
           "#FF6692",
           "#B6E880",
           "#FF97FF",
           "#FECB52"
          ],
          "font": {
           "color": "#2a3f5f"
          },
          "geo": {
           "bgcolor": "white",
           "lakecolor": "white",
           "landcolor": "#E5ECF6",
           "showlakes": true,
           "showland": true,
           "subunitcolor": "white"
          },
          "hoverlabel": {
           "align": "left"
          },
          "hovermode": "closest",
          "mapbox": {
           "style": "light"
          },
          "paper_bgcolor": "white",
          "plot_bgcolor": "#E5ECF6",
          "polar": {
           "angularaxis": {
            "gridcolor": "white",
            "linecolor": "white",
            "ticks": ""
           },
           "bgcolor": "#E5ECF6",
           "radialaxis": {
            "gridcolor": "white",
            "linecolor": "white",
            "ticks": ""
           }
          },
          "scene": {
           "xaxis": {
            "backgroundcolor": "#E5ECF6",
            "gridcolor": "white",
            "gridwidth": 2,
            "linecolor": "white",
            "showbackground": true,
            "ticks": "",
            "zerolinecolor": "white"
           },
           "yaxis": {
            "backgroundcolor": "#E5ECF6",
            "gridcolor": "white",
            "gridwidth": 2,
            "linecolor": "white",
            "showbackground": true,
            "ticks": "",
            "zerolinecolor": "white"
           },
           "zaxis": {
            "backgroundcolor": "#E5ECF6",
            "gridcolor": "white",
            "gridwidth": 2,
            "linecolor": "white",
            "showbackground": true,
            "ticks": "",
            "zerolinecolor": "white"
           }
          },
          "shapedefaults": {
           "line": {
            "color": "#2a3f5f"
           }
          },
          "ternary": {
           "aaxis": {
            "gridcolor": "white",
            "linecolor": "white",
            "ticks": ""
           },
           "baxis": {
            "gridcolor": "white",
            "linecolor": "white",
            "ticks": ""
           },
           "bgcolor": "#E5ECF6",
           "caxis": {
            "gridcolor": "white",
            "linecolor": "white",
            "ticks": ""
           }
          },
          "title": {
           "x": 0.05
          },
          "xaxis": {
           "automargin": true,
           "gridcolor": "white",
           "linecolor": "white",
           "ticks": "",
           "title": {
            "standoff": 15
           },
           "zerolinecolor": "white",
           "zerolinewidth": 2
          },
          "yaxis": {
           "automargin": true,
           "gridcolor": "white",
           "linecolor": "white",
           "ticks": "",
           "title": {
            "standoff": 15
           },
           "zerolinecolor": "white",
           "zerolinewidth": 2
          }
         }
        },
        "width": 1100,
        "xaxis": {
         "anchor": "y",
         "domain": [
          0,
          1
         ],
         "tickfont": {
          "color": "black",
          "family": "Arial",
          "size": 16
         },
         "title": {
          "font": {
           "color": "black",
           "family": "Arial",
           "size": 18
          },
          "text": "Sentiment level"
         }
        },
        "yaxis": {
         "anchor": "x",
         "domain": [
          0,
          1
         ],
         "title": {
          "font": {
           "color": "black",
           "family": "Arial",
           "size": 18
          },
          "text": "Fraction of paragraphs"
         }
        }
       }
      }
     },
     "metadata": {},
     "output_type": "display_data"
    }
   ],
   "source": [
    "# prepare the data for the plot\n",
    "df_grouped = data.groupby(['politician', 'sentiment_human_category']).size().reset_index(name='count')\n",
    "df_grouped['total_per_politician'] = df_grouped.groupby('politician')['count'].transform('sum')\n",
    "df_grouped['proportion'] = round(df_grouped['count'] / df_grouped['total_per_politician'],2)\n",
    "df_grouped.drop(columns=['count', 'total_per_politician'], inplace=True)\n",
    "\n",
    "# calculate the overall statistics\n",
    "overall_sentiment = data.groupby('sentiment_human_category').size().reset_index(name='count')\n",
    "overall_sentiment['total'] = overall_sentiment['count'].sum()\n",
    "overall_sentiment['proportion'] = round(overall_sentiment['count'] / overall_sentiment['total'], 2)\n",
    "\n",
    "\n",
    "# plot the grouped bars\n",
    "color_map = {'Overall': '#666666','Mitsotakis': '#007dea', 'Tsipras': '#ef4393', 'Androulakis': '#00cc44', 'Koutsoumpas': '#ff4d4d', 'Velopoulos': '#5cb2e5', 'Varoufakis': '#fd9347'}\n",
    "fig = px.bar(df_grouped, x='sentiment_human_category', y='proportion', color='politician', text='proportion', barmode='group', color_discrete_map=color_map,\n",
    "             labels={'proportion': 'Fraction of paragraphs', 'sentiment_human_category': 'Sentiment level'}, text_auto=True)\n",
    "fig.update_traces(textposition='outside', textfont=dict(size=14, family='Arial'))\n",
    "\n",
    "# plot the lines (overall statistics)\n",
    "fig.add_shape(\n",
    "    type=\"line\",\n",
    "    x0=-0.45, x1=0.45, y0=overall_sentiment['proportion'].iloc[0], y1=overall_sentiment['proportion'].iloc[0],\n",
    "    line=dict(color=\"#666666\", width=3, dash=\"dash\"),\n",
    "    xref=\"x\", yref=\"y\")\n",
    "fig.add_shape(\n",
    "    type=\"line\",\n",
    "    x0=0.55, x1=1.45, y0=overall_sentiment['proportion'].iloc[1], y1=overall_sentiment['proportion'].iloc[1],\n",
    "    line=dict(color=\"#666666\", width=3, dash=\"dash\"),\n",
    "    xref=\"x\", yref=\"y\")\n",
    "fig.add_shape(\n",
    "    type=\"line\",\n",
    "    x0=1.55, x1=2.45, y0=overall_sentiment['proportion'].iloc[2], y1=overall_sentiment['proportion'].iloc[2],\n",
    "    line=dict(color=\"#666666\", width=3, dash=\"dash\"),\n",
    "    xref=\"x\", yref=\"y\")\n",
    "fig.add_trace(go.Scatter(\n",
    "        x=[None], y=[None],\n",
    "        mode='lines',\n",
    "        line=dict(color=\"#666666\", width=3, dash=\"dash\"),\n",
    "        showlegend=True, name='Overall'))\n",
    "\n",
    "# adjust legend and figure size\n",
    "fig.update_layout(\n",
    "    width=1100, height=500,\n",
    "    legend_title_text='Politicians',\n",
    "    legend=dict(orientation=\"h\", yanchor=\"bottom\", y=1.0, xanchor=\"center\", x=0.5, font=dict(size=16, family='Arial')))\n",
    "\n",
    "# adjust axis\n",
    "fig.update_xaxes(title_font=dict(size=18, family='Arial', color='black'),\n",
    "    tickfont=dict(size=16, family='Arial', color='black'))\n",
    "fig.update_yaxes( title_font=dict(size=18, family='Arial', color='black'))\n",
    "\n",
    "fig.show()\n",
    "fig.write_image(\"images/sentiment.png\", scale=2)"
   ]
  },
  {
   "cell_type": "markdown",
   "metadata": {},
   "source": [
    "To what extent are politicians' speeches polarized?"
   ]
  },
  {
   "cell_type": "code",
   "execution_count": 7,
   "metadata": {},
   "outputs": [],
   "source": [
    "def adjust_proportions(group):\n",
    "    group['proportion'] = group['proportion'].round(2)\n",
    "    diff = 1.00 - group['proportion'].sum()\n",
    "    if diff != 0:\n",
    "        group.loc[group['proportion'].idxmax(), 'proportion'] += diff\n",
    "    return group"
   ]
  },
  {
   "cell_type": "code",
   "execution_count": 8,
   "metadata": {},
   "outputs": [
    {
     "data": {
      "application/vnd.plotly.v1+json": {
       "config": {
        "plotlyServerURL": "https://plot.ly"
       },
       "data": [
        {
         "alignmentgroup": "True",
         "hovertemplate": "polarization_human_category=low<br>Politician=%{x}<br>Fraction of paragraphs=%{text}<extra></extra>",
         "legendgroup": "low",
         "marker": {
          "color": "#74add1",
          "pattern": {
           "shape": ""
          }
         },
         "name": "low",
         "offsetgroup": "low",
         "orientation": "v",
         "showlegend": true,
         "text": [
          0.88,
          0.7799999999999999,
          0.94,
          0.87,
          0.89,
          0.86
         ],
         "textfont": {
          "family": "Arial",
          "size": 12
         },
         "textposition": "inside",
         "texttemplate": "%{y}",
         "type": "bar",
         "x": [
          "Androulakis",
          "Koutsoumpas",
          "Mitsotakis",
          "Tsipras",
          "Varoufakis",
          "Velopoulos"
         ],
         "xaxis": "x",
         "y": [
          0.88,
          0.7799999999999999,
          0.94,
          0.87,
          0.89,
          0.86
         ],
         "yaxis": "y"
        },
        {
         "alignmentgroup": "True",
         "hovertemplate": "polarization_human_category=medium<br>Politician=%{x}<br>Fraction of paragraphs=%{text}<extra></extra>",
         "legendgroup": "medium",
         "marker": {
          "color": "#fee090",
          "pattern": {
           "shape": ""
          }
         },
         "name": "medium",
         "offsetgroup": "medium",
         "orientation": "v",
         "showlegend": true,
         "text": [
          0.1,
          0.16,
          0.04,
          0.1,
          0.09,
          0.1
         ],
         "textfont": {
          "family": "Arial",
          "size": 12
         },
         "textposition": "inside",
         "texttemplate": "%{y}",
         "type": "bar",
         "x": [
          "Androulakis",
          "Koutsoumpas",
          "Mitsotakis",
          "Tsipras",
          "Varoufakis",
          "Velopoulos"
         ],
         "xaxis": "x",
         "y": [
          0.1,
          0.16,
          0.04,
          0.1,
          0.09,
          0.1
         ],
         "yaxis": "y"
        },
        {
         "alignmentgroup": "True",
         "hovertemplate": "polarization_human_category=high<br>Politician=%{x}<br>Fraction of paragraphs=%{text}<extra></extra>",
         "legendgroup": "high",
         "marker": {
          "color": "#f46d43",
          "pattern": {
           "shape": ""
          }
         },
         "name": "high",
         "offsetgroup": "high",
         "orientation": "v",
         "showlegend": true,
         "text": [
          0.02,
          0.06,
          0.02,
          0.03,
          0.02,
          0.04
         ],
         "textfont": {
          "family": "Arial",
          "size": 12
         },
         "textposition": "inside",
         "texttemplate": "%{y}",
         "type": "bar",
         "x": [
          "Androulakis",
          "Koutsoumpas",
          "Mitsotakis",
          "Tsipras",
          "Varoufakis",
          "Velopoulos"
         ],
         "xaxis": "x",
         "y": [
          0.02,
          0.06,
          0.02,
          0.03,
          0.02,
          0.04
         ],
         "yaxis": "y"
        }
       ],
       "layout": {
        "barmode": "stack",
        "height": 500,
        "legend": {
         "font": {
          "family": "Arial",
          "size": 16
         },
         "orientation": "h",
         "title": {
          "text": "Polarization level"
         },
         "tracegroupgap": 0,
         "x": 0.5,
         "xanchor": "center",
         "y": 1.01,
         "yanchor": "bottom"
        },
        "margin": {
         "t": 60
        },
        "template": {
         "data": {
          "bar": [
           {
            "error_x": {
             "color": "#2a3f5f"
            },
            "error_y": {
             "color": "#2a3f5f"
            },
            "marker": {
             "line": {
              "color": "#E5ECF6",
              "width": 0.5
             },
             "pattern": {
              "fillmode": "overlay",
              "size": 10,
              "solidity": 0.2
             }
            },
            "type": "bar"
           }
          ],
          "barpolar": [
           {
            "marker": {
             "line": {
              "color": "#E5ECF6",
              "width": 0.5
             },
             "pattern": {
              "fillmode": "overlay",
              "size": 10,
              "solidity": 0.2
             }
            },
            "type": "barpolar"
           }
          ],
          "carpet": [
           {
            "aaxis": {
             "endlinecolor": "#2a3f5f",
             "gridcolor": "white",
             "linecolor": "white",
             "minorgridcolor": "white",
             "startlinecolor": "#2a3f5f"
            },
            "baxis": {
             "endlinecolor": "#2a3f5f",
             "gridcolor": "white",
             "linecolor": "white",
             "minorgridcolor": "white",
             "startlinecolor": "#2a3f5f"
            },
            "type": "carpet"
           }
          ],
          "choropleth": [
           {
            "colorbar": {
             "outlinewidth": 0,
             "ticks": ""
            },
            "type": "choropleth"
           }
          ],
          "contour": [
           {
            "colorbar": {
             "outlinewidth": 0,
             "ticks": ""
            },
            "colorscale": [
             [
              0,
              "#0d0887"
             ],
             [
              0.1111111111111111,
              "#46039f"
             ],
             [
              0.2222222222222222,
              "#7201a8"
             ],
             [
              0.3333333333333333,
              "#9c179e"
             ],
             [
              0.4444444444444444,
              "#bd3786"
             ],
             [
              0.5555555555555556,
              "#d8576b"
             ],
             [
              0.6666666666666666,
              "#ed7953"
             ],
             [
              0.7777777777777778,
              "#fb9f3a"
             ],
             [
              0.8888888888888888,
              "#fdca26"
             ],
             [
              1,
              "#f0f921"
             ]
            ],
            "type": "contour"
           }
          ],
          "contourcarpet": [
           {
            "colorbar": {
             "outlinewidth": 0,
             "ticks": ""
            },
            "type": "contourcarpet"
           }
          ],
          "heatmap": [
           {
            "colorbar": {
             "outlinewidth": 0,
             "ticks": ""
            },
            "colorscale": [
             [
              0,
              "#0d0887"
             ],
             [
              0.1111111111111111,
              "#46039f"
             ],
             [
              0.2222222222222222,
              "#7201a8"
             ],
             [
              0.3333333333333333,
              "#9c179e"
             ],
             [
              0.4444444444444444,
              "#bd3786"
             ],
             [
              0.5555555555555556,
              "#d8576b"
             ],
             [
              0.6666666666666666,
              "#ed7953"
             ],
             [
              0.7777777777777778,
              "#fb9f3a"
             ],
             [
              0.8888888888888888,
              "#fdca26"
             ],
             [
              1,
              "#f0f921"
             ]
            ],
            "type": "heatmap"
           }
          ],
          "heatmapgl": [
           {
            "colorbar": {
             "outlinewidth": 0,
             "ticks": ""
            },
            "colorscale": [
             [
              0,
              "#0d0887"
             ],
             [
              0.1111111111111111,
              "#46039f"
             ],
             [
              0.2222222222222222,
              "#7201a8"
             ],
             [
              0.3333333333333333,
              "#9c179e"
             ],
             [
              0.4444444444444444,
              "#bd3786"
             ],
             [
              0.5555555555555556,
              "#d8576b"
             ],
             [
              0.6666666666666666,
              "#ed7953"
             ],
             [
              0.7777777777777778,
              "#fb9f3a"
             ],
             [
              0.8888888888888888,
              "#fdca26"
             ],
             [
              1,
              "#f0f921"
             ]
            ],
            "type": "heatmapgl"
           }
          ],
          "histogram": [
           {
            "marker": {
             "pattern": {
              "fillmode": "overlay",
              "size": 10,
              "solidity": 0.2
             }
            },
            "type": "histogram"
           }
          ],
          "histogram2d": [
           {
            "colorbar": {
             "outlinewidth": 0,
             "ticks": ""
            },
            "colorscale": [
             [
              0,
              "#0d0887"
             ],
             [
              0.1111111111111111,
              "#46039f"
             ],
             [
              0.2222222222222222,
              "#7201a8"
             ],
             [
              0.3333333333333333,
              "#9c179e"
             ],
             [
              0.4444444444444444,
              "#bd3786"
             ],
             [
              0.5555555555555556,
              "#d8576b"
             ],
             [
              0.6666666666666666,
              "#ed7953"
             ],
             [
              0.7777777777777778,
              "#fb9f3a"
             ],
             [
              0.8888888888888888,
              "#fdca26"
             ],
             [
              1,
              "#f0f921"
             ]
            ],
            "type": "histogram2d"
           }
          ],
          "histogram2dcontour": [
           {
            "colorbar": {
             "outlinewidth": 0,
             "ticks": ""
            },
            "colorscale": [
             [
              0,
              "#0d0887"
             ],
             [
              0.1111111111111111,
              "#46039f"
             ],
             [
              0.2222222222222222,
              "#7201a8"
             ],
             [
              0.3333333333333333,
              "#9c179e"
             ],
             [
              0.4444444444444444,
              "#bd3786"
             ],
             [
              0.5555555555555556,
              "#d8576b"
             ],
             [
              0.6666666666666666,
              "#ed7953"
             ],
             [
              0.7777777777777778,
              "#fb9f3a"
             ],
             [
              0.8888888888888888,
              "#fdca26"
             ],
             [
              1,
              "#f0f921"
             ]
            ],
            "type": "histogram2dcontour"
           }
          ],
          "mesh3d": [
           {
            "colorbar": {
             "outlinewidth": 0,
             "ticks": ""
            },
            "type": "mesh3d"
           }
          ],
          "parcoords": [
           {
            "line": {
             "colorbar": {
              "outlinewidth": 0,
              "ticks": ""
             }
            },
            "type": "parcoords"
           }
          ],
          "pie": [
           {
            "automargin": true,
            "type": "pie"
           }
          ],
          "scatter": [
           {
            "fillpattern": {
             "fillmode": "overlay",
             "size": 10,
             "solidity": 0.2
            },
            "type": "scatter"
           }
          ],
          "scatter3d": [
           {
            "line": {
             "colorbar": {
              "outlinewidth": 0,
              "ticks": ""
             }
            },
            "marker": {
             "colorbar": {
              "outlinewidth": 0,
              "ticks": ""
             }
            },
            "type": "scatter3d"
           }
          ],
          "scattercarpet": [
           {
            "marker": {
             "colorbar": {
              "outlinewidth": 0,
              "ticks": ""
             }
            },
            "type": "scattercarpet"
           }
          ],
          "scattergeo": [
           {
            "marker": {
             "colorbar": {
              "outlinewidth": 0,
              "ticks": ""
             }
            },
            "type": "scattergeo"
           }
          ],
          "scattergl": [
           {
            "marker": {
             "colorbar": {
              "outlinewidth": 0,
              "ticks": ""
             }
            },
            "type": "scattergl"
           }
          ],
          "scattermapbox": [
           {
            "marker": {
             "colorbar": {
              "outlinewidth": 0,
              "ticks": ""
             }
            },
            "type": "scattermapbox"
           }
          ],
          "scatterpolar": [
           {
            "marker": {
             "colorbar": {
              "outlinewidth": 0,
              "ticks": ""
             }
            },
            "type": "scatterpolar"
           }
          ],
          "scatterpolargl": [
           {
            "marker": {
             "colorbar": {
              "outlinewidth": 0,
              "ticks": ""
             }
            },
            "type": "scatterpolargl"
           }
          ],
          "scatterternary": [
           {
            "marker": {
             "colorbar": {
              "outlinewidth": 0,
              "ticks": ""
             }
            },
            "type": "scatterternary"
           }
          ],
          "surface": [
           {
            "colorbar": {
             "outlinewidth": 0,
             "ticks": ""
            },
            "colorscale": [
             [
              0,
              "#0d0887"
             ],
             [
              0.1111111111111111,
              "#46039f"
             ],
             [
              0.2222222222222222,
              "#7201a8"
             ],
             [
              0.3333333333333333,
              "#9c179e"
             ],
             [
              0.4444444444444444,
              "#bd3786"
             ],
             [
              0.5555555555555556,
              "#d8576b"
             ],
             [
              0.6666666666666666,
              "#ed7953"
             ],
             [
              0.7777777777777778,
              "#fb9f3a"
             ],
             [
              0.8888888888888888,
              "#fdca26"
             ],
             [
              1,
              "#f0f921"
             ]
            ],
            "type": "surface"
           }
          ],
          "table": [
           {
            "cells": {
             "fill": {
              "color": "#EBF0F8"
             },
             "line": {
              "color": "white"
             }
            },
            "header": {
             "fill": {
              "color": "#C8D4E3"
             },
             "line": {
              "color": "white"
             }
            },
            "type": "table"
           }
          ]
         },
         "layout": {
          "annotationdefaults": {
           "arrowcolor": "#2a3f5f",
           "arrowhead": 0,
           "arrowwidth": 1
          },
          "autotypenumbers": "strict",
          "coloraxis": {
           "colorbar": {
            "outlinewidth": 0,
            "ticks": ""
           }
          },
          "colorscale": {
           "diverging": [
            [
             0,
             "#8e0152"
            ],
            [
             0.1,
             "#c51b7d"
            ],
            [
             0.2,
             "#de77ae"
            ],
            [
             0.3,
             "#f1b6da"
            ],
            [
             0.4,
             "#fde0ef"
            ],
            [
             0.5,
             "#f7f7f7"
            ],
            [
             0.6,
             "#e6f5d0"
            ],
            [
             0.7,
             "#b8e186"
            ],
            [
             0.8,
             "#7fbc41"
            ],
            [
             0.9,
             "#4d9221"
            ],
            [
             1,
             "#276419"
            ]
           ],
           "sequential": [
            [
             0,
             "#0d0887"
            ],
            [
             0.1111111111111111,
             "#46039f"
            ],
            [
             0.2222222222222222,
             "#7201a8"
            ],
            [
             0.3333333333333333,
             "#9c179e"
            ],
            [
             0.4444444444444444,
             "#bd3786"
            ],
            [
             0.5555555555555556,
             "#d8576b"
            ],
            [
             0.6666666666666666,
             "#ed7953"
            ],
            [
             0.7777777777777778,
             "#fb9f3a"
            ],
            [
             0.8888888888888888,
             "#fdca26"
            ],
            [
             1,
             "#f0f921"
            ]
           ],
           "sequentialminus": [
            [
             0,
             "#0d0887"
            ],
            [
             0.1111111111111111,
             "#46039f"
            ],
            [
             0.2222222222222222,
             "#7201a8"
            ],
            [
             0.3333333333333333,
             "#9c179e"
            ],
            [
             0.4444444444444444,
             "#bd3786"
            ],
            [
             0.5555555555555556,
             "#d8576b"
            ],
            [
             0.6666666666666666,
             "#ed7953"
            ],
            [
             0.7777777777777778,
             "#fb9f3a"
            ],
            [
             0.8888888888888888,
             "#fdca26"
            ],
            [
             1,
             "#f0f921"
            ]
           ]
          },
          "colorway": [
           "#636efa",
           "#EF553B",
           "#00cc96",
           "#ab63fa",
           "#FFA15A",
           "#19d3f3",
           "#FF6692",
           "#B6E880",
           "#FF97FF",
           "#FECB52"
          ],
          "font": {
           "color": "#2a3f5f"
          },
          "geo": {
           "bgcolor": "white",
           "lakecolor": "white",
           "landcolor": "#E5ECF6",
           "showlakes": true,
           "showland": true,
           "subunitcolor": "white"
          },
          "hoverlabel": {
           "align": "left"
          },
          "hovermode": "closest",
          "mapbox": {
           "style": "light"
          },
          "paper_bgcolor": "white",
          "plot_bgcolor": "#E5ECF6",
          "polar": {
           "angularaxis": {
            "gridcolor": "white",
            "linecolor": "white",
            "ticks": ""
           },
           "bgcolor": "#E5ECF6",
           "radialaxis": {
            "gridcolor": "white",
            "linecolor": "white",
            "ticks": ""
           }
          },
          "scene": {
           "xaxis": {
            "backgroundcolor": "#E5ECF6",
            "gridcolor": "white",
            "gridwidth": 2,
            "linecolor": "white",
            "showbackground": true,
            "ticks": "",
            "zerolinecolor": "white"
           },
           "yaxis": {
            "backgroundcolor": "#E5ECF6",
            "gridcolor": "white",
            "gridwidth": 2,
            "linecolor": "white",
            "showbackground": true,
            "ticks": "",
            "zerolinecolor": "white"
           },
           "zaxis": {
            "backgroundcolor": "#E5ECF6",
            "gridcolor": "white",
            "gridwidth": 2,
            "linecolor": "white",
            "showbackground": true,
            "ticks": "",
            "zerolinecolor": "white"
           }
          },
          "shapedefaults": {
           "line": {
            "color": "#2a3f5f"
           }
          },
          "ternary": {
           "aaxis": {
            "gridcolor": "white",
            "linecolor": "white",
            "ticks": ""
           },
           "baxis": {
            "gridcolor": "white",
            "linecolor": "white",
            "ticks": ""
           },
           "bgcolor": "#E5ECF6",
           "caxis": {
            "gridcolor": "white",
            "linecolor": "white",
            "ticks": ""
           }
          },
          "title": {
           "x": 0.05
          },
          "xaxis": {
           "automargin": true,
           "gridcolor": "white",
           "linecolor": "white",
           "ticks": "",
           "title": {
            "standoff": 15
           },
           "zerolinecolor": "white",
           "zerolinewidth": 2
          },
          "yaxis": {
           "automargin": true,
           "gridcolor": "white",
           "linecolor": "white",
           "ticks": "",
           "title": {
            "standoff": 15
           },
           "zerolinecolor": "white",
           "zerolinewidth": 2
          }
         }
        },
        "uniformtext": {
         "minsize": 12,
         "mode": "hide"
        },
        "width": 750,
        "xaxis": {
         "anchor": "y",
         "domain": [
          0,
          1
         ],
         "tickfont": {
          "color": "black",
          "family": "Arial",
          "size": 16
         },
         "title": {
          "font": {
           "color": "black",
           "family": "Arial",
           "size": 18
          },
          "text": "Politician"
         }
        },
        "yaxis": {
         "anchor": "x",
         "domain": [
          0,
          1
         ],
         "title": {
          "font": {
           "color": "black",
           "family": "Arial",
           "size": 18
          },
          "text": "Fraction of paragraphs"
         }
        }
       }
      }
     },
     "metadata": {},
     "output_type": "display_data"
    }
   ],
   "source": [
    "# prepare the data for the plot\n",
    "df_grouped = data.groupby(['politician', 'polarization_human_category']).size().reset_index(name='count')\n",
    "df_grouped['total_per_politician'] = df_grouped.groupby('politician')['count'].transform('sum')\n",
    "df_grouped['proportion'] = df_grouped['count']/df_grouped['total_per_politician']\n",
    "df_grouped = df_grouped.groupby('politician').apply(adjust_proportions)\n",
    "df_grouped.drop(columns=['count', 'total_per_politician'], inplace=True)\n",
    "\n",
    "# plot the stacked bars\n",
    "color_map = {'low': '#74add1', 'medium': '#fee090', 'high': '#f46d43'}\n",
    "fig = px.bar(df_grouped, x='politician', y='proportion', color='polarization_human_category',\n",
    "             barmode='stack', color_discrete_map=color_map, text='proportion',\n",
    "             labels={'proportion': 'Fraction of paragraphs', 'politician': 'Politician'},\n",
    "             category_orders={'polarization_human_category': ['low', 'medium', 'high']}, text_auto=True)\n",
    "fig.update_layout(uniformtext_minsize=12, uniformtext_mode='hide')\n",
    "fig.update_traces(textposition='inside', textfont=dict(size=12, family='Arial'))\n",
    "\n",
    "# adjust legend and figure size\n",
    "fig.update_layout(\n",
    "    width=750, height=500,\n",
    "    legend_title_text='Polarization level',\n",
    "    legend=dict(orientation=\"h\", yanchor=\"bottom\", y=1.01, xanchor=\"center\", x=0.5, font=dict(size=16, family='Arial')))\n",
    "\n",
    "# adjust axis\n",
    "fig.update_xaxes(title_font=dict(size=18, family='Arial', color='black'),\n",
    "    tickfont=dict(size=16, family='Arial', color='black'))\n",
    "fig.update_yaxes(title_font=dict(size=18, family='Arial', color='black'))\n",
    "\n",
    "fig.show()\n",
    "fig.write_image(\"images/polarization.png\", scale=2)"
   ]
  },
  {
   "cell_type": "markdown",
   "metadata": {},
   "source": [
    "Do politicians' speeches exhibit populism?"
   ]
  },
  {
   "cell_type": "code",
   "execution_count": 9,
   "metadata": {},
   "outputs": [
    {
     "data": {
      "application/vnd.plotly.v1+json": {
       "config": {
        "plotlyServerURL": "https://plot.ly"
       },
       "data": [
        {
         "alignmentgroup": "True",
         "hovertemplate": "populism_human_category=low<br>Politician=%{x}<br>Fraction of paragraphs=%{text}<extra></extra>",
         "legendgroup": "low",
         "marker": {
          "color": "#74add1",
          "pattern": {
           "shape": ""
          }
         },
         "name": "low",
         "offsetgroup": "low",
         "orientation": "v",
         "showlegend": true,
         "text": [
          0.98,
          0.95,
          1,
          0.96,
          0.97,
          1
         ],
         "textfont": {
          "family": "Arial",
          "size": 12
         },
         "textposition": "inside",
         "texttemplate": "%{y}",
         "type": "bar",
         "x": [
          "Androulakis",
          "Koutsoumpas",
          "Mitsotakis",
          "Tsipras",
          "Varoufakis",
          "Velopoulos"
         ],
         "xaxis": "x",
         "y": [
          0.98,
          0.95,
          1,
          0.96,
          0.97,
          1
         ],
         "yaxis": "y"
        },
        {
         "alignmentgroup": "True",
         "hovertemplate": "populism_human_category=medium<br>Politician=%{x}<br>Fraction of paragraphs=%{text}<extra></extra>",
         "legendgroup": "medium",
         "marker": {
          "color": "#fee090",
          "pattern": {
           "shape": ""
          }
         },
         "name": "medium",
         "offsetgroup": "medium",
         "orientation": "v",
         "showlegend": true,
         "text": [
          0.02,
          0.04,
          0.03,
          0.02
         ],
         "textfont": {
          "family": "Arial",
          "size": 12
         },
         "textposition": "inside",
         "texttemplate": "%{y}",
         "type": "bar",
         "x": [
          "Androulakis",
          "Koutsoumpas",
          "Tsipras",
          "Varoufakis"
         ],
         "xaxis": "x",
         "y": [
          0.02,
          0.04,
          0.03,
          0.02
         ],
         "yaxis": "y"
        },
        {
         "alignmentgroup": "True",
         "hovertemplate": "populism_human_category=high<br>Politician=%{x}<br>Fraction of paragraphs=%{text}<extra></extra>",
         "legendgroup": "high",
         "marker": {
          "color": "#f46d43",
          "pattern": {
           "shape": ""
          }
         },
         "name": "high",
         "offsetgroup": "high",
         "orientation": "v",
         "showlegend": true,
         "text": [
          0,
          0.01,
          0.01,
          0.01
         ],
         "textfont": {
          "family": "Arial",
          "size": 12
         },
         "textposition": "inside",
         "texttemplate": "%{y}",
         "type": "bar",
         "x": [
          "Androulakis",
          "Koutsoumpas",
          "Tsipras",
          "Varoufakis"
         ],
         "xaxis": "x",
         "y": [
          0,
          0.01,
          0.01,
          0.01
         ],
         "yaxis": "y"
        }
       ],
       "layout": {
        "barmode": "stack",
        "height": 500,
        "legend": {
         "font": {
          "family": "Arial",
          "size": 16
         },
         "orientation": "h",
         "title": {
          "text": "Populism level"
         },
         "tracegroupgap": 0,
         "x": 0.5,
         "xanchor": "center",
         "y": 1.01,
         "yanchor": "bottom"
        },
        "margin": {
         "t": 60
        },
        "template": {
         "data": {
          "bar": [
           {
            "error_x": {
             "color": "#2a3f5f"
            },
            "error_y": {
             "color": "#2a3f5f"
            },
            "marker": {
             "line": {
              "color": "#E5ECF6",
              "width": 0.5
             },
             "pattern": {
              "fillmode": "overlay",
              "size": 10,
              "solidity": 0.2
             }
            },
            "type": "bar"
           }
          ],
          "barpolar": [
           {
            "marker": {
             "line": {
              "color": "#E5ECF6",
              "width": 0.5
             },
             "pattern": {
              "fillmode": "overlay",
              "size": 10,
              "solidity": 0.2
             }
            },
            "type": "barpolar"
           }
          ],
          "carpet": [
           {
            "aaxis": {
             "endlinecolor": "#2a3f5f",
             "gridcolor": "white",
             "linecolor": "white",
             "minorgridcolor": "white",
             "startlinecolor": "#2a3f5f"
            },
            "baxis": {
             "endlinecolor": "#2a3f5f",
             "gridcolor": "white",
             "linecolor": "white",
             "minorgridcolor": "white",
             "startlinecolor": "#2a3f5f"
            },
            "type": "carpet"
           }
          ],
          "choropleth": [
           {
            "colorbar": {
             "outlinewidth": 0,
             "ticks": ""
            },
            "type": "choropleth"
           }
          ],
          "contour": [
           {
            "colorbar": {
             "outlinewidth": 0,
             "ticks": ""
            },
            "colorscale": [
             [
              0,
              "#0d0887"
             ],
             [
              0.1111111111111111,
              "#46039f"
             ],
             [
              0.2222222222222222,
              "#7201a8"
             ],
             [
              0.3333333333333333,
              "#9c179e"
             ],
             [
              0.4444444444444444,
              "#bd3786"
             ],
             [
              0.5555555555555556,
              "#d8576b"
             ],
             [
              0.6666666666666666,
              "#ed7953"
             ],
             [
              0.7777777777777778,
              "#fb9f3a"
             ],
             [
              0.8888888888888888,
              "#fdca26"
             ],
             [
              1,
              "#f0f921"
             ]
            ],
            "type": "contour"
           }
          ],
          "contourcarpet": [
           {
            "colorbar": {
             "outlinewidth": 0,
             "ticks": ""
            },
            "type": "contourcarpet"
           }
          ],
          "heatmap": [
           {
            "colorbar": {
             "outlinewidth": 0,
             "ticks": ""
            },
            "colorscale": [
             [
              0,
              "#0d0887"
             ],
             [
              0.1111111111111111,
              "#46039f"
             ],
             [
              0.2222222222222222,
              "#7201a8"
             ],
             [
              0.3333333333333333,
              "#9c179e"
             ],
             [
              0.4444444444444444,
              "#bd3786"
             ],
             [
              0.5555555555555556,
              "#d8576b"
             ],
             [
              0.6666666666666666,
              "#ed7953"
             ],
             [
              0.7777777777777778,
              "#fb9f3a"
             ],
             [
              0.8888888888888888,
              "#fdca26"
             ],
             [
              1,
              "#f0f921"
             ]
            ],
            "type": "heatmap"
           }
          ],
          "heatmapgl": [
           {
            "colorbar": {
             "outlinewidth": 0,
             "ticks": ""
            },
            "colorscale": [
             [
              0,
              "#0d0887"
             ],
             [
              0.1111111111111111,
              "#46039f"
             ],
             [
              0.2222222222222222,
              "#7201a8"
             ],
             [
              0.3333333333333333,
              "#9c179e"
             ],
             [
              0.4444444444444444,
              "#bd3786"
             ],
             [
              0.5555555555555556,
              "#d8576b"
             ],
             [
              0.6666666666666666,
              "#ed7953"
             ],
             [
              0.7777777777777778,
              "#fb9f3a"
             ],
             [
              0.8888888888888888,
              "#fdca26"
             ],
             [
              1,
              "#f0f921"
             ]
            ],
            "type": "heatmapgl"
           }
          ],
          "histogram": [
           {
            "marker": {
             "pattern": {
              "fillmode": "overlay",
              "size": 10,
              "solidity": 0.2
             }
            },
            "type": "histogram"
           }
          ],
          "histogram2d": [
           {
            "colorbar": {
             "outlinewidth": 0,
             "ticks": ""
            },
            "colorscale": [
             [
              0,
              "#0d0887"
             ],
             [
              0.1111111111111111,
              "#46039f"
             ],
             [
              0.2222222222222222,
              "#7201a8"
             ],
             [
              0.3333333333333333,
              "#9c179e"
             ],
             [
              0.4444444444444444,
              "#bd3786"
             ],
             [
              0.5555555555555556,
              "#d8576b"
             ],
             [
              0.6666666666666666,
              "#ed7953"
             ],
             [
              0.7777777777777778,
              "#fb9f3a"
             ],
             [
              0.8888888888888888,
              "#fdca26"
             ],
             [
              1,
              "#f0f921"
             ]
            ],
            "type": "histogram2d"
           }
          ],
          "histogram2dcontour": [
           {
            "colorbar": {
             "outlinewidth": 0,
             "ticks": ""
            },
            "colorscale": [
             [
              0,
              "#0d0887"
             ],
             [
              0.1111111111111111,
              "#46039f"
             ],
             [
              0.2222222222222222,
              "#7201a8"
             ],
             [
              0.3333333333333333,
              "#9c179e"
             ],
             [
              0.4444444444444444,
              "#bd3786"
             ],
             [
              0.5555555555555556,
              "#d8576b"
             ],
             [
              0.6666666666666666,
              "#ed7953"
             ],
             [
              0.7777777777777778,
              "#fb9f3a"
             ],
             [
              0.8888888888888888,
              "#fdca26"
             ],
             [
              1,
              "#f0f921"
             ]
            ],
            "type": "histogram2dcontour"
           }
          ],
          "mesh3d": [
           {
            "colorbar": {
             "outlinewidth": 0,
             "ticks": ""
            },
            "type": "mesh3d"
           }
          ],
          "parcoords": [
           {
            "line": {
             "colorbar": {
              "outlinewidth": 0,
              "ticks": ""
             }
            },
            "type": "parcoords"
           }
          ],
          "pie": [
           {
            "automargin": true,
            "type": "pie"
           }
          ],
          "scatter": [
           {
            "fillpattern": {
             "fillmode": "overlay",
             "size": 10,
             "solidity": 0.2
            },
            "type": "scatter"
           }
          ],
          "scatter3d": [
           {
            "line": {
             "colorbar": {
              "outlinewidth": 0,
              "ticks": ""
             }
            },
            "marker": {
             "colorbar": {
              "outlinewidth": 0,
              "ticks": ""
             }
            },
            "type": "scatter3d"
           }
          ],
          "scattercarpet": [
           {
            "marker": {
             "colorbar": {
              "outlinewidth": 0,
              "ticks": ""
             }
            },
            "type": "scattercarpet"
           }
          ],
          "scattergeo": [
           {
            "marker": {
             "colorbar": {
              "outlinewidth": 0,
              "ticks": ""
             }
            },
            "type": "scattergeo"
           }
          ],
          "scattergl": [
           {
            "marker": {
             "colorbar": {
              "outlinewidth": 0,
              "ticks": ""
             }
            },
            "type": "scattergl"
           }
          ],
          "scattermapbox": [
           {
            "marker": {
             "colorbar": {
              "outlinewidth": 0,
              "ticks": ""
             }
            },
            "type": "scattermapbox"
           }
          ],
          "scatterpolar": [
           {
            "marker": {
             "colorbar": {
              "outlinewidth": 0,
              "ticks": ""
             }
            },
            "type": "scatterpolar"
           }
          ],
          "scatterpolargl": [
           {
            "marker": {
             "colorbar": {
              "outlinewidth": 0,
              "ticks": ""
             }
            },
            "type": "scatterpolargl"
           }
          ],
          "scatterternary": [
           {
            "marker": {
             "colorbar": {
              "outlinewidth": 0,
              "ticks": ""
             }
            },
            "type": "scatterternary"
           }
          ],
          "surface": [
           {
            "colorbar": {
             "outlinewidth": 0,
             "ticks": ""
            },
            "colorscale": [
             [
              0,
              "#0d0887"
             ],
             [
              0.1111111111111111,
              "#46039f"
             ],
             [
              0.2222222222222222,
              "#7201a8"
             ],
             [
              0.3333333333333333,
              "#9c179e"
             ],
             [
              0.4444444444444444,
              "#bd3786"
             ],
             [
              0.5555555555555556,
              "#d8576b"
             ],
             [
              0.6666666666666666,
              "#ed7953"
             ],
             [
              0.7777777777777778,
              "#fb9f3a"
             ],
             [
              0.8888888888888888,
              "#fdca26"
             ],
             [
              1,
              "#f0f921"
             ]
            ],
            "type": "surface"
           }
          ],
          "table": [
           {
            "cells": {
             "fill": {
              "color": "#EBF0F8"
             },
             "line": {
              "color": "white"
             }
            },
            "header": {
             "fill": {
              "color": "#C8D4E3"
             },
             "line": {
              "color": "white"
             }
            },
            "type": "table"
           }
          ]
         },
         "layout": {
          "annotationdefaults": {
           "arrowcolor": "#2a3f5f",
           "arrowhead": 0,
           "arrowwidth": 1
          },
          "autotypenumbers": "strict",
          "coloraxis": {
           "colorbar": {
            "outlinewidth": 0,
            "ticks": ""
           }
          },
          "colorscale": {
           "diverging": [
            [
             0,
             "#8e0152"
            ],
            [
             0.1,
             "#c51b7d"
            ],
            [
             0.2,
             "#de77ae"
            ],
            [
             0.3,
             "#f1b6da"
            ],
            [
             0.4,
             "#fde0ef"
            ],
            [
             0.5,
             "#f7f7f7"
            ],
            [
             0.6,
             "#e6f5d0"
            ],
            [
             0.7,
             "#b8e186"
            ],
            [
             0.8,
             "#7fbc41"
            ],
            [
             0.9,
             "#4d9221"
            ],
            [
             1,
             "#276419"
            ]
           ],
           "sequential": [
            [
             0,
             "#0d0887"
            ],
            [
             0.1111111111111111,
             "#46039f"
            ],
            [
             0.2222222222222222,
             "#7201a8"
            ],
            [
             0.3333333333333333,
             "#9c179e"
            ],
            [
             0.4444444444444444,
             "#bd3786"
            ],
            [
             0.5555555555555556,
             "#d8576b"
            ],
            [
             0.6666666666666666,
             "#ed7953"
            ],
            [
             0.7777777777777778,
             "#fb9f3a"
            ],
            [
             0.8888888888888888,
             "#fdca26"
            ],
            [
             1,
             "#f0f921"
            ]
           ],
           "sequentialminus": [
            [
             0,
             "#0d0887"
            ],
            [
             0.1111111111111111,
             "#46039f"
            ],
            [
             0.2222222222222222,
             "#7201a8"
            ],
            [
             0.3333333333333333,
             "#9c179e"
            ],
            [
             0.4444444444444444,
             "#bd3786"
            ],
            [
             0.5555555555555556,
             "#d8576b"
            ],
            [
             0.6666666666666666,
             "#ed7953"
            ],
            [
             0.7777777777777778,
             "#fb9f3a"
            ],
            [
             0.8888888888888888,
             "#fdca26"
            ],
            [
             1,
             "#f0f921"
            ]
           ]
          },
          "colorway": [
           "#636efa",
           "#EF553B",
           "#00cc96",
           "#ab63fa",
           "#FFA15A",
           "#19d3f3",
           "#FF6692",
           "#B6E880",
           "#FF97FF",
           "#FECB52"
          ],
          "font": {
           "color": "#2a3f5f"
          },
          "geo": {
           "bgcolor": "white",
           "lakecolor": "white",
           "landcolor": "#E5ECF6",
           "showlakes": true,
           "showland": true,
           "subunitcolor": "white"
          },
          "hoverlabel": {
           "align": "left"
          },
          "hovermode": "closest",
          "mapbox": {
           "style": "light"
          },
          "paper_bgcolor": "white",
          "plot_bgcolor": "#E5ECF6",
          "polar": {
           "angularaxis": {
            "gridcolor": "white",
            "linecolor": "white",
            "ticks": ""
           },
           "bgcolor": "#E5ECF6",
           "radialaxis": {
            "gridcolor": "white",
            "linecolor": "white",
            "ticks": ""
           }
          },
          "scene": {
           "xaxis": {
            "backgroundcolor": "#E5ECF6",
            "gridcolor": "white",
            "gridwidth": 2,
            "linecolor": "white",
            "showbackground": true,
            "ticks": "",
            "zerolinecolor": "white"
           },
           "yaxis": {
            "backgroundcolor": "#E5ECF6",
            "gridcolor": "white",
            "gridwidth": 2,
            "linecolor": "white",
            "showbackground": true,
            "ticks": "",
            "zerolinecolor": "white"
           },
           "zaxis": {
            "backgroundcolor": "#E5ECF6",
            "gridcolor": "white",
            "gridwidth": 2,
            "linecolor": "white",
            "showbackground": true,
            "ticks": "",
            "zerolinecolor": "white"
           }
          },
          "shapedefaults": {
           "line": {
            "color": "#2a3f5f"
           }
          },
          "ternary": {
           "aaxis": {
            "gridcolor": "white",
            "linecolor": "white",
            "ticks": ""
           },
           "baxis": {
            "gridcolor": "white",
            "linecolor": "white",
            "ticks": ""
           },
           "bgcolor": "#E5ECF6",
           "caxis": {
            "gridcolor": "white",
            "linecolor": "white",
            "ticks": ""
           }
          },
          "title": {
           "x": 0.05
          },
          "xaxis": {
           "automargin": true,
           "gridcolor": "white",
           "linecolor": "white",
           "ticks": "",
           "title": {
            "standoff": 15
           },
           "zerolinecolor": "white",
           "zerolinewidth": 2
          },
          "yaxis": {
           "automargin": true,
           "gridcolor": "white",
           "linecolor": "white",
           "ticks": "",
           "title": {
            "standoff": 15
           },
           "zerolinecolor": "white",
           "zerolinewidth": 2
          }
         }
        },
        "uniformtext": {
         "minsize": 12,
         "mode": "hide"
        },
        "width": 750,
        "xaxis": {
         "anchor": "y",
         "domain": [
          0,
          1
         ],
         "tickfont": {
          "color": "black",
          "family": "Arial",
          "size": 16
         },
         "title": {
          "font": {
           "color": "black",
           "family": "Arial",
           "size": 18
          },
          "text": "Politician"
         }
        },
        "yaxis": {
         "anchor": "x",
         "domain": [
          0,
          1
         ],
         "title": {
          "font": {
           "color": "black",
           "family": "Arial",
           "size": 18
          },
          "text": "Fraction of paragraphs"
         }
        }
       }
      }
     },
     "metadata": {},
     "output_type": "display_data"
    }
   ],
   "source": [
    "# prepare the data for the plot\n",
    "df_grouped = data.groupby(['politician', 'populism_human_category']).size().reset_index(name='count')\n",
    "df_grouped['total_per_politician'] = df_grouped.groupby('politician')['count'].transform('sum')\n",
    "df_grouped['proportion'] = df_grouped['count']/df_grouped['total_per_politician']\n",
    "df_grouped = df_grouped.groupby('politician').apply(adjust_proportions)\n",
    "df_grouped.drop(columns=['count', 'total_per_politician'], inplace=True)\n",
    "\n",
    "# plot the stacked bars\n",
    "color_map = {'low': '#74add1', 'medium': '#fee090', 'high': '#f46d43'}\n",
    "fig = px.bar(df_grouped, x='politician', y='proportion', color='populism_human_category',\n",
    "             barmode='stack', color_discrete_map=color_map, text='proportion',\n",
    "             labels={'proportion': 'Fraction of paragraphs', 'politician': 'Politician'},\n",
    "             category_orders={'populism_human_category': ['low', 'medium', 'high']}, text_auto=True)\n",
    "fig.update_layout(uniformtext_minsize=12, uniformtext_mode='hide')\n",
    "fig.update_traces(textposition='inside', textfont=dict(size=12, family='Arial'))\n",
    "\n",
    "# adjust legend and figure size\n",
    "fig.update_layout(\n",
    "    width=750, height=500,\n",
    "    legend_title_text='Populism level',\n",
    "    legend=dict(orientation=\"h\", yanchor=\"bottom\", y=1.01, xanchor=\"center\", x=0.5, font=dict(size=16, family='Arial')))\n",
    "\n",
    "# adjust axis\n",
    "fig.update_xaxes(title_font=dict(size=18, family='Arial', color='black'),\n",
    "    tickfont=dict(size=16, family='Arial', color='black'))\n",
    "fig.update_yaxes(title_font=dict(size=18, family='Arial', color='black'))\n",
    "\n",
    "fig.show()\n",
    "fig.write_image(\"images/populism.png\", scale=2)"
   ]
  },
  {
   "cell_type": "markdown",
   "metadata": {},
   "source": [
    "Do politicians often refer to specific entities?"
   ]
  },
  {
   "cell_type": "code",
   "execution_count": 10,
   "metadata": {},
   "outputs": [],
   "source": [
    "import ast\n",
    "\n",
    "data['entity_specific_human'] = data['entity_specific_human'].apply(lambda x: ast.literal_eval(x))"
   ]
  },
  {
   "cell_type": "code",
   "execution_count": 12,
   "metadata": {},
   "outputs": [
    {
     "data": {
      "image/png": "[encoded data removed]",
      "text/plain": [
       "<Figure size 600x300 with 1 Axes>"
      ]
     },
     "metadata": {},
     "output_type": "display_data"
    }
   ],
   "source": [
    "# prepare the data for the plot\n",
    "all_entities = [entity for sublist in data['entity_specific_human'] for entity in sublist]\n",
    "entity_counts = Counter(all_entities)\n",
    "top_20_entities = entity_counts.most_common(50)\n",
    "word_freq = dict(top_20_entities)\n",
    "\n",
    "# create the color mapping\n",
    "cmap = mcolors.LinearSegmentedColormap.from_list('custom_blues', ['#4678b9', '#1c304a'], N=50)\n",
    "custom_colors = [mcolors.to_hex(cmap(i/49)) for i in range(50)]\n",
    "min_freq = min(word_freq.values())\n",
    "max_freq = max(word_freq.values())\n",
    "def color_func(word, font_size, position, orientation, random_state=None, **kwargs):\n",
    "    frequency = word_freq[word]\n",
    "    normalized_freq = (frequency - min_freq) / (max_freq - min_freq)\n",
    "    r, g, b, a = cmap(normalized_freq)\n",
    "    return f\"rgb({int(r*255)}, {int(g*255)}, {int(b*255)})\"\n",
    "\n",
    "# plot the wordcloud\n",
    "wordcloud = WordCloud(width=200, height=250, background_color=\"white\").generate_from_frequencies(word_freq)\n",
    "wordcloud = wordcloud.recolor(color_func=color_func)\n",
    "\n",
    "# save with high resolution\n",
    "plt.figure(figsize=(2,1), dpi=300)\n",
    "plt.imshow(wordcloud, interpolation='bilinear')\n",
    "plt.axis('off')\n",
    "plt.savefig(\"images/entities_wordcloud_simple.png\", dpi=300, bbox_inches='tight', pad_inches=0)"
   ]
  },
  {
   "cell_type": "code",
   "execution_count": 13,
   "metadata": {},
   "outputs": [
    {
     "data": {
      "application/vnd.plotly.v1+json": {
       "config": {
        "plotlyServerURL": "https://plot.ly"
       },
       "data": [
        {
         "alignmentgroup": "True",
         "hovertemplate": "Politician=Androulakis<br>Occurrence of entities=%{x}<br>Entity=%{y}<extra></extra>",
         "legendgroup": "Androulakis",
         "marker": {
          "color": "#00cc44",
          "pattern": {
           "shape": ""
          }
         },
         "name": "Androulakis",
         "offsetgroup": "Androulakis",
         "orientation": "h",
         "showlegend": true,
         "textposition": "auto",
         "type": "bar",
         "x": [
          45,
          28,
          79,
          69,
          17,
          278,
          190,
          119,
          75,
          3,
          39,
          134,
          114,
          225,
          22,
          281,
          10,
          107,
          35,
          68
         ],
         "xaxis": "x",
         "y": [
          "country",
          "crete",
          "europe",
          "european union",
          "government",
          "greece",
          "greek",
          "greek people",
          "greeks",
          "kke",
          "may 21",
          "mitsotakis",
          "mr mitsotakis",
          "new democracy",
          "parliament",
          "pasok",
          "sunday",
          "syriza",
          "thessaloniki",
          "tsipras"
         ],
         "yaxis": "y"
        },
        {
         "alignmentgroup": "True",
         "hovertemplate": "Politician=Koutsoumpas<br>Occurrence of entities=%{x}<br>Entity=%{y}<extra></extra>",
         "legendgroup": "Koutsoumpas",
         "marker": {
          "color": "#ff4d4d",
          "pattern": {
           "shape": ""
          }
         },
         "name": "Koutsoumpas",
         "offsetgroup": "Koutsoumpas",
         "orientation": "h",
         "showlegend": true,
         "textposition": "auto",
         "type": "bar",
         "x": [
          27,
          9,
          9,
          25,
          37,
          119,
          23,
          11,
          2,
          308,
          22,
          40,
          5,
          97,
          35,
          158,
          22,
          225,
          26,
          31
         ],
         "xaxis": "x",
         "y": [
          "country",
          "crete",
          "europe",
          "european union",
          "government",
          "greece",
          "greek",
          "greek people",
          "greeks",
          "kke",
          "may 21",
          "mitsotakis",
          "mr mitsotakis",
          "new democracy",
          "parliament",
          "pasok",
          "sunday",
          "syriza",
          "thessaloniki",
          "tsipras"
         ],
         "yaxis": "y"
        },
        {
         "alignmentgroup": "True",
         "hovertemplate": "Politician=Mitsotakis<br>Occurrence of entities=%{x}<br>Entity=%{y}<extra></extra>",
         "legendgroup": "Mitsotakis",
         "marker": {
          "color": "#007dea",
          "pattern": {
           "shape": ""
          }
         },
         "name": "Mitsotakis",
         "offsetgroup": "Mitsotakis",
         "orientation": "h",
         "showlegend": true,
         "textposition": "auto",
         "type": "bar",
         "x": [
          87,
          74,
          69,
          22,
          56,
          409,
          89,
          36,
          41,
          1,
          68,
          15,
          281,
          35,
          28,
          28,
          77,
          35,
          24
         ],
         "xaxis": "x",
         "y": [
          "country",
          "crete",
          "europe",
          "european union",
          "government",
          "greece",
          "greek",
          "greek people",
          "greeks",
          "kke",
          "may 21",
          "mitsotakis",
          "new democracy",
          "parliament",
          "pasok",
          "sunday",
          "syriza",
          "thessaloniki",
          "tsipras"
         ],
         "yaxis": "y"
        },
        {
         "alignmentgroup": "True",
         "hovertemplate": "Politician=Tsipras<br>Occurrence of entities=%{x}<br>Entity=%{y}<extra></extra>",
         "legendgroup": "Tsipras",
         "marker": {
          "color": "#ef4393",
          "pattern": {
           "shape": ""
          }
         },
         "name": "Tsipras",
         "offsetgroup": "Tsipras",
         "orientation": "h",
         "showlegend": true,
         "textposition": "auto",
         "type": "bar",
         "x": [
          117,
          34,
          79,
          39,
          50,
          260,
          96,
          101,
          42,
          4,
          67,
          202,
          149,
          227,
          37,
          11,
          90,
          253,
          22,
          3
         ],
         "xaxis": "x",
         "y": [
          "country",
          "crete",
          "europe",
          "european union",
          "government",
          "greece",
          "greek",
          "greek people",
          "greeks",
          "kke",
          "may 21",
          "mitsotakis",
          "mr mitsotakis",
          "new democracy",
          "parliament",
          "pasok",
          "sunday",
          "syriza",
          "thessaloniki",
          "tsipras"
         ],
         "yaxis": "y"
        },
        {
         "alignmentgroup": "True",
         "hovertemplate": "Politician=Varoufakis<br>Occurrence of entities=%{x}<br>Entity=%{y}<extra></extra>",
         "legendgroup": "Varoufakis",
         "marker": {
          "color": "#fd9347",
          "pattern": {
           "shape": ""
          }
         },
         "name": "Varoufakis",
         "offsetgroup": "Varoufakis",
         "orientation": "h",
         "showlegend": true,
         "textposition": "auto",
         "type": "bar",
         "x": [
          17,
          7,
          22,
          36,
          14,
          103,
          42,
          28,
          23,
          21,
          3,
          57,
          8,
          40,
          43,
          49,
          5,
          106,
          27,
          29
         ],
         "xaxis": "x",
         "y": [
          "country",
          "crete",
          "europe",
          "european union",
          "government",
          "greece",
          "greek",
          "greek people",
          "greeks",
          "kke",
          "may 21",
          "mitsotakis",
          "mr mitsotakis",
          "new democracy",
          "parliament",
          "pasok",
          "sunday",
          "syriza",
          "thessaloniki",
          "tsipras"
         ],
         "yaxis": "y"
        },
        {
         "alignmentgroup": "True",
         "hovertemplate": "Politician=Velopoulos<br>Occurrence of entities=%{x}<br>Entity=%{y}<extra></extra>",
         "legendgroup": "Velopoulos",
         "marker": {
          "color": "#5cb2e5",
          "pattern": {
           "shape": ""
          }
         },
         "name": "Velopoulos",
         "offsetgroup": "Velopoulos",
         "orientation": "h",
         "showlegend": true,
         "textposition": "auto",
         "type": "bar",
         "x": [
          10,
          13,
          7,
          8,
          9,
          71,
          32,
          14,
          28,
          2,
          9,
          15,
          11,
          57,
          5,
          24,
          34,
          2,
          11
         ],
         "xaxis": "x",
         "y": [
          "country",
          "crete",
          "europe",
          "european union",
          "government",
          "greece",
          "greek",
          "greek people",
          "greeks",
          "kke",
          "may 21",
          "mitsotakis",
          "mr mitsotakis",
          "new democracy",
          "parliament",
          "pasok",
          "syriza",
          "thessaloniki",
          "tsipras"
         ],
         "yaxis": "y"
        }
       ],
       "layout": {
        "barmode": "stack",
        "height": 500,
        "legend": {
         "font": {
          "family": "Arial",
          "size": 16
         },
         "orientation": "h",
         "title": {
          "text": "Politician"
         },
         "tracegroupgap": 0,
         "x": 0.5,
         "xanchor": "center",
         "y": 1,
         "yanchor": "bottom"
        },
        "margin": {
         "t": 60
        },
        "template": {
         "data": {
          "bar": [
           {
            "error_x": {
             "color": "#2a3f5f"
            },
            "error_y": {
             "color": "#2a3f5f"
            },
            "marker": {
             "line": {
              "color": "#E5ECF6",
              "width": 0.5
             },
             "pattern": {
              "fillmode": "overlay",
              "size": 10,
              "solidity": 0.2
             }
            },
            "type": "bar"
           }
          ],
          "barpolar": [
           {
            "marker": {
             "line": {
              "color": "#E5ECF6",
              "width": 0.5
             },
             "pattern": {
              "fillmode": "overlay",
              "size": 10,
              "solidity": 0.2
             }
            },
            "type": "barpolar"
           }
          ],
          "carpet": [
           {
            "aaxis": {
             "endlinecolor": "#2a3f5f",
             "gridcolor": "white",
             "linecolor": "white",
             "minorgridcolor": "white",
             "startlinecolor": "#2a3f5f"
            },
            "baxis": {
             "endlinecolor": "#2a3f5f",
             "gridcolor": "white",
             "linecolor": "white",
             "minorgridcolor": "white",
             "startlinecolor": "#2a3f5f"
            },
            "type": "carpet"
           }
          ],
          "choropleth": [
           {
            "colorbar": {
             "outlinewidth": 0,
             "ticks": ""
            },
            "type": "choropleth"
           }
          ],
          "contour": [
           {
            "colorbar": {
             "outlinewidth": 0,
             "ticks": ""
            },
            "colorscale": [
             [
              0,
              "#0d0887"
             ],
             [
              0.1111111111111111,
              "#46039f"
             ],
             [
              0.2222222222222222,
              "#7201a8"
             ],
             [
              0.3333333333333333,
              "#9c179e"
             ],
             [
              0.4444444444444444,
              "#bd3786"
             ],
             [
              0.5555555555555556,
              "#d8576b"
             ],
             [
              0.6666666666666666,
              "#ed7953"
             ],
             [
              0.7777777777777778,
              "#fb9f3a"
             ],
             [
              0.8888888888888888,
              "#fdca26"
             ],
             [
              1,
              "#f0f921"
             ]
            ],
            "type": "contour"
           }
          ],
          "contourcarpet": [
           {
            "colorbar": {
             "outlinewidth": 0,
             "ticks": ""
            },
            "type": "contourcarpet"
           }
          ],
          "heatmap": [
           {
            "colorbar": {
             "outlinewidth": 0,
             "ticks": ""
            },
            "colorscale": [
             [
              0,
              "#0d0887"
             ],
             [
              0.1111111111111111,
              "#46039f"
             ],
             [
              0.2222222222222222,
              "#7201a8"
             ],
             [
              0.3333333333333333,
              "#9c179e"
             ],
             [
              0.4444444444444444,
              "#bd3786"
             ],
             [
              0.5555555555555556,
              "#d8576b"
             ],
             [
              0.6666666666666666,
              "#ed7953"
             ],
             [
              0.7777777777777778,
              "#fb9f3a"
             ],
             [
              0.8888888888888888,
              "#fdca26"
             ],
             [
              1,
              "#f0f921"
             ]
            ],
            "type": "heatmap"
           }
          ],
          "heatmapgl": [
           {
            "colorbar": {
             "outlinewidth": 0,
             "ticks": ""
            },
            "colorscale": [
             [
              0,
              "#0d0887"
             ],
             [
              0.1111111111111111,
              "#46039f"
             ],
             [
              0.2222222222222222,
              "#7201a8"
             ],
             [
              0.3333333333333333,
              "#9c179e"
             ],
             [
              0.4444444444444444,
              "#bd3786"
             ],
             [
              0.5555555555555556,
              "#d8576b"
             ],
             [
              0.6666666666666666,
              "#ed7953"
             ],
             [
              0.7777777777777778,
              "#fb9f3a"
             ],
             [
              0.8888888888888888,
              "#fdca26"
             ],
             [
              1,
              "#f0f921"
             ]
            ],
            "type": "heatmapgl"
           }
          ],
          "histogram": [
           {
            "marker": {
             "pattern": {
              "fillmode": "overlay",
              "size": 10,
              "solidity": 0.2
             }
            },
            "type": "histogram"
           }
          ],
          "histogram2d": [
           {
            "colorbar": {
             "outlinewidth": 0,
             "ticks": ""
            },
            "colorscale": [
             [
              0,
              "#0d0887"
             ],
             [
              0.1111111111111111,
              "#46039f"
             ],
             [
              0.2222222222222222,
              "#7201a8"
             ],
             [
              0.3333333333333333,
              "#9c179e"
             ],
             [
              0.4444444444444444,
              "#bd3786"
             ],
             [
              0.5555555555555556,
              "#d8576b"
             ],
             [
              0.6666666666666666,
              "#ed7953"
             ],
             [
              0.7777777777777778,
              "#fb9f3a"
             ],
             [
              0.8888888888888888,
              "#fdca26"
             ],
             [
              1,
              "#f0f921"
             ]
            ],
            "type": "histogram2d"
           }
          ],
          "histogram2dcontour": [
           {
            "colorbar": {
             "outlinewidth": 0,
             "ticks": ""
            },
            "colorscale": [
             [
              0,
              "#0d0887"
             ],
             [
              0.1111111111111111,
              "#46039f"
             ],
             [
              0.2222222222222222,
              "#7201a8"
             ],
             [
              0.3333333333333333,
              "#9c179e"
             ],
             [
              0.4444444444444444,
              "#bd3786"
             ],
             [
              0.5555555555555556,
              "#d8576b"
             ],
             [
              0.6666666666666666,
              "#ed7953"
             ],
             [
              0.7777777777777778,
              "#fb9f3a"
             ],
             [
              0.8888888888888888,
              "#fdca26"
             ],
             [
              1,
              "#f0f921"
             ]
            ],
            "type": "histogram2dcontour"
           }
          ],
          "mesh3d": [
           {
            "colorbar": {
             "outlinewidth": 0,
             "ticks": ""
            },
            "type": "mesh3d"
           }
          ],
          "parcoords": [
           {
            "line": {
             "colorbar": {
              "outlinewidth": 0,
              "ticks": ""
             }
            },
            "type": "parcoords"
           }
          ],
          "pie": [
           {
            "automargin": true,
            "type": "pie"
           }
          ],
          "scatter": [
           {
            "fillpattern": {
             "fillmode": "overlay",
             "size": 10,
             "solidity": 0.2
            },
            "type": "scatter"
           }
          ],
          "scatter3d": [
           {
            "line": {
             "colorbar": {
              "outlinewidth": 0,
              "ticks": ""
             }
            },
            "marker": {
             "colorbar": {
              "outlinewidth": 0,
              "ticks": ""
             }
            },
            "type": "scatter3d"
           }
          ],
          "scattercarpet": [
           {
            "marker": {
             "colorbar": {
              "outlinewidth": 0,
              "ticks": ""
             }
            },
            "type": "scattercarpet"
           }
          ],
          "scattergeo": [
           {
            "marker": {
             "colorbar": {
              "outlinewidth": 0,
              "ticks": ""
             }
            },
            "type": "scattergeo"
           }
          ],
          "scattergl": [
           {
            "marker": {
             "colorbar": {
              "outlinewidth": 0,
              "ticks": ""
             }
            },
            "type": "scattergl"
           }
          ],
          "scattermapbox": [
           {
            "marker": {
             "colorbar": {
              "outlinewidth": 0,
              "ticks": ""
             }
            },
            "type": "scattermapbox"
           }
          ],
          "scatterpolar": [
           {
            "marker": {
             "colorbar": {
              "outlinewidth": 0,
              "ticks": ""
             }
            },
            "type": "scatterpolar"
           }
          ],
          "scatterpolargl": [
           {
            "marker": {
             "colorbar": {
              "outlinewidth": 0,
              "ticks": ""
             }
            },
            "type": "scatterpolargl"
           }
          ],
          "scatterternary": [
           {
            "marker": {
             "colorbar": {
              "outlinewidth": 0,
              "ticks": ""
             }
            },
            "type": "scatterternary"
           }
          ],
          "surface": [
           {
            "colorbar": {
             "outlinewidth": 0,
             "ticks": ""
            },
            "colorscale": [
             [
              0,
              "#0d0887"
             ],
             [
              0.1111111111111111,
              "#46039f"
             ],
             [
              0.2222222222222222,
              "#7201a8"
             ],
             [
              0.3333333333333333,
              "#9c179e"
             ],
             [
              0.4444444444444444,
              "#bd3786"
             ],
             [
              0.5555555555555556,
              "#d8576b"
             ],
             [
              0.6666666666666666,
              "#ed7953"
             ],
             [
              0.7777777777777778,
              "#fb9f3a"
             ],
             [
              0.8888888888888888,
              "#fdca26"
             ],
             [
              1,
              "#f0f921"
             ]
            ],
            "type": "surface"
           }
          ],
          "table": [
           {
            "cells": {
             "fill": {
              "color": "#EBF0F8"
             },
             "line": {
              "color": "white"
             }
            },
            "header": {
             "fill": {
              "color": "#C8D4E3"
             },
             "line": {
              "color": "white"
             }
            },
            "type": "table"
           }
          ]
         },
         "layout": {
          "annotationdefaults": {
           "arrowcolor": "#2a3f5f",
           "arrowhead": 0,
           "arrowwidth": 1
          },
          "autotypenumbers": "strict",
          "coloraxis": {
           "colorbar": {
            "outlinewidth": 0,
            "ticks": ""
           }
          },
          "colorscale": {
           "diverging": [
            [
             0,
             "#8e0152"
            ],
            [
             0.1,
             "#c51b7d"
            ],
            [
             0.2,
             "#de77ae"
            ],
            [
             0.3,
             "#f1b6da"
            ],
            [
             0.4,
             "#fde0ef"
            ],
            [
             0.5,
             "#f7f7f7"
            ],
            [
             0.6,
             "#e6f5d0"
            ],
            [
             0.7,
             "#b8e186"
            ],
            [
             0.8,
             "#7fbc41"
            ],
            [
             0.9,
             "#4d9221"
            ],
            [
             1,
             "#276419"
            ]
           ],
           "sequential": [
            [
             0,
             "#0d0887"
            ],
            [
             0.1111111111111111,
             "#46039f"
            ],
            [
             0.2222222222222222,
             "#7201a8"
            ],
            [
             0.3333333333333333,
             "#9c179e"
            ],
            [
             0.4444444444444444,
             "#bd3786"
            ],
            [
             0.5555555555555556,
             "#d8576b"
            ],
            [
             0.6666666666666666,
             "#ed7953"
            ],
            [
             0.7777777777777778,
             "#fb9f3a"
            ],
            [
             0.8888888888888888,
             "#fdca26"
            ],
            [
             1,
             "#f0f921"
            ]
           ],
           "sequentialminus": [
            [
             0,
             "#0d0887"
            ],
            [
             0.1111111111111111,
             "#46039f"
            ],
            [
             0.2222222222222222,
             "#7201a8"
            ],
            [
             0.3333333333333333,
             "#9c179e"
            ],
            [
             0.4444444444444444,
             "#bd3786"
            ],
            [
             0.5555555555555556,
             "#d8576b"
            ],
            [
             0.6666666666666666,
             "#ed7953"
            ],
            [
             0.7777777777777778,
             "#fb9f3a"
            ],
            [
             0.8888888888888888,
             "#fdca26"
            ],
            [
             1,
             "#f0f921"
            ]
           ]
          },
          "colorway": [
           "#636efa",
           "#EF553B",
           "#00cc96",
           "#ab63fa",
           "#FFA15A",
           "#19d3f3",
           "#FF6692",
           "#B6E880",
           "#FF97FF",
           "#FECB52"
          ],
          "font": {
           "color": "#2a3f5f"
          },
          "geo": {
           "bgcolor": "white",
           "lakecolor": "white",
           "landcolor": "#E5ECF6",
           "showlakes": true,
           "showland": true,
           "subunitcolor": "white"
          },
          "hoverlabel": {
           "align": "left"
          },
          "hovermode": "closest",
          "mapbox": {
           "style": "light"
          },
          "paper_bgcolor": "white",
          "plot_bgcolor": "#E5ECF6",
          "polar": {
           "angularaxis": {
            "gridcolor": "white",
            "linecolor": "white",
            "ticks": ""
           },
           "bgcolor": "#E5ECF6",
           "radialaxis": {
            "gridcolor": "white",
            "linecolor": "white",
            "ticks": ""
           }
          },
          "scene": {
           "xaxis": {
            "backgroundcolor": "#E5ECF6",
            "gridcolor": "white",
            "gridwidth": 2,
            "linecolor": "white",
            "showbackground": true,
            "ticks": "",
            "zerolinecolor": "white"
           },
           "yaxis": {
            "backgroundcolor": "#E5ECF6",
            "gridcolor": "white",
            "gridwidth": 2,
            "linecolor": "white",
            "showbackground": true,
            "ticks": "",
            "zerolinecolor": "white"
           },
           "zaxis": {
            "backgroundcolor": "#E5ECF6",
            "gridcolor": "white",
            "gridwidth": 2,
            "linecolor": "white",
            "showbackground": true,
            "ticks": "",
            "zerolinecolor": "white"
           }
          },
          "shapedefaults": {
           "line": {
            "color": "#2a3f5f"
           }
          },
          "ternary": {
           "aaxis": {
            "gridcolor": "white",
            "linecolor": "white",
            "ticks": ""
           },
           "baxis": {
            "gridcolor": "white",
            "linecolor": "white",
            "ticks": ""
           },
           "bgcolor": "#E5ECF6",
           "caxis": {
            "gridcolor": "white",
            "linecolor": "white",
            "ticks": ""
           }
          },
          "title": {
           "x": 0.05
          },
          "xaxis": {
           "automargin": true,
           "gridcolor": "white",
           "linecolor": "white",
           "ticks": "",
           "title": {
            "standoff": 15
           },
           "zerolinecolor": "white",
           "zerolinewidth": 2
          },
          "yaxis": {
           "automargin": true,
           "gridcolor": "white",
           "linecolor": "white",
           "ticks": "",
           "title": {
            "standoff": 15
           },
           "zerolinecolor": "white",
           "zerolinewidth": 2
          }
         }
        },
        "width": 1000,
        "xaxis": {
         "anchor": "y",
         "domain": [
          0,
          1
         ],
         "title": {
          "font": {
           "color": "black",
           "family": "Arial",
           "size": 18
          },
          "text": "Occurrence of entities"
         }
        },
        "yaxis": {
         "anchor": "x",
         "categoryarray": [
          "thessaloniki",
          "sunday",
          "crete",
          "tsipras",
          "parliament",
          "government",
          "european union",
          "may 21",
          "greeks",
          "europe",
          "mr mitsotakis",
          "country",
          "greek people",
          "kke",
          "mitsotakis",
          "greek",
          "pasok",
          "syriza",
          "new democracy",
          "greece"
         ],
         "categoryorder": "array",
         "domain": [
          0,
          1
         ],
         "tickfont": {
          "color": "black",
          "family": "Arial",
          "size": 14
         },
         "title": {
          "font": {
           "color": "black",
           "family": "Arial",
           "size": 18
          },
          "text": "Entity"
         }
        }
       }
      }
     },
     "metadata": {},
     "output_type": "display_data"
    }
   ],
   "source": [
    "# prepare the data for the plot\n",
    "expanded_data = data.explode('entity_specific_human')\n",
    "entity_politician_count = expanded_data.groupby(['entity_specific_human', 'politician']).size().reset_index(name='count')\n",
    "top_20_entities = expanded_data['entity_specific_human'].value_counts().nlargest(20).index\n",
    "entity_politician_count = entity_politician_count[entity_politician_count['entity_specific_human'].isin(top_20_entities)]\n",
    "entity_total_count = entity_politician_count.groupby('entity_specific_human')['count'].sum().reset_index(name='total_count')\n",
    "sorted_entities = entity_total_count.sort_values(by='total_count', ascending=False)['entity_specific_human'].to_list()\n",
    "\n",
    "# plot the horizontal bars\n",
    "color_map = {'Overall': '#666666','Mitsotakis': '#007dea', 'Tsipras': '#ef4393', 'Androulakis': '#00cc44', 'Koutsoumpas': '#ff4d4d', 'Velopoulos': '#5cb2e5', 'Varoufakis': '#fd9347'}\n",
    "fig = px.bar(entity_politician_count, x='count', y='entity_specific_human',  barmode='stack',\n",
    "             orientation='h', color='politician', color_discrete_map=color_map, category_orders={'entity_specific_human': sorted_entities},\n",
    "             labels={'count': 'Occurrence of entities', 'entity_specific_human': 'Entity', 'politician': 'Politician'})\n",
    "\n",
    "# adjust legend and figure size\n",
    "fig.update_layout(\n",
    "    width=1000, height=500,\n",
    "    legend=dict(orientation=\"h\", yanchor=\"bottom\", y=1.0, xanchor=\"center\", x=0.5, font=dict(size=16, family='Arial')))\n",
    "\n",
    "# adjust axis\n",
    "fig.update_xaxes(title_font=dict(size=18, family='Arial', color='black'))\n",
    "fig.update_yaxes(title_font=dict(size=18, family='Arial', color='black'),\n",
    "                 tickfont=dict(size=14, family='Arial', color='black'))\n",
    "\n",
    "fig.show()\n",
    "fig.write_image(\"images/entities_horizontal_bars.png\", scale=2)"
   ]
  },
  {
   "cell_type": "markdown",
   "metadata": {},
   "source": [
    "CORRELATIONS"
   ]
  },
  {
   "cell_type": "code",
   "execution_count": 14,
   "metadata": {},
   "outputs": [],
   "source": [
    "def cramers_v(x, y):\n",
    "    confusion_matrix = pd.crosstab(x, y)\n",
    "    chi2 = chi2_contingency(confusion_matrix)[0]\n",
    "    n = confusion_matrix.sum().sum()\n",
    "    r, k = confusion_matrix.shape\n",
    "    return np.sqrt(chi2 / (n * (min(r, k) - 1)))"
   ]
  },
  {
   "cell_type": "code",
   "execution_count": 15,
   "metadata": {},
   "outputs": [
    {
     "data": {
      "application/vnd.plotly.v1+json": {
       "config": {
        "plotlyServerURL": "https://plot.ly"
       },
       "data": [
        {
         "coloraxis": "coloraxis",
         "hovertemplate": "x: %{x}<br>y: %{y}<br>color: %{z}<extra></extra>",
         "name": "0",
         "textfont": {
          "size": 14
         },
         "texttemplate": "%{z}",
         "type": "heatmap",
         "x": [
          "criticism or agenda",
          "topic",
          "sentiment",
          "polarization",
          "populism",
          "entity"
         ],
         "xaxis": "x",
         "y": [
          "criticism or agenda",
          "topic",
          "sentiment",
          "polarization",
          "populism",
          "entity"
         ],
         "yaxis": "y",
         "z": [
          [
           1,
           null,
           null,
           null,
           null,
           null
          ],
          [
           null,
           1,
           null,
           null,
           null,
           null
          ],
          [
           0.7,
           0.28,
           1,
           null,
           null,
           null
          ],
          [
           -0.35,
           0.29,
           -0.35,
           1,
           null,
           null
          ],
          [
           -0.16,
           null,
           -0.17,
           0.37,
           1,
           null
          ],
          [
           -0.11,
           0.09,
           -0.15,
           0.21,
           0.13,
           1
          ]
         ]
        }
       ],
       "layout": {
        "coloraxis": {
         "cmax": 1,
         "cmin": -1,
         "colorscale": [
          [
           0,
           "#d73027"
          ],
          [
           0.25,
           "#fdae61"
          ],
          [
           0.5,
           "#ffffbf"
          ],
          [
           0.75,
           "#abd9e9"
          ],
          [
           1,
           "#4575b4"
          ]
         ]
        },
        "height": 500,
        "margin": {
         "t": 60
        },
        "template": {
         "data": {
          "bar": [
           {
            "error_x": {
             "color": "#2a3f5f"
            },
            "error_y": {
             "color": "#2a3f5f"
            },
            "marker": {
             "line": {
              "color": "#E5ECF6",
              "width": 0.5
             },
             "pattern": {
              "fillmode": "overlay",
              "size": 10,
              "solidity": 0.2
             }
            },
            "type": "bar"
           }
          ],
          "barpolar": [
           {
            "marker": {
             "line": {
              "color": "#E5ECF6",
              "width": 0.5
             },
             "pattern": {
              "fillmode": "overlay",
              "size": 10,
              "solidity": 0.2
             }
            },
            "type": "barpolar"
           }
          ],
          "carpet": [
           {
            "aaxis": {
             "endlinecolor": "#2a3f5f",
             "gridcolor": "white",
             "linecolor": "white",
             "minorgridcolor": "white",
             "startlinecolor": "#2a3f5f"
            },
            "baxis": {
             "endlinecolor": "#2a3f5f",
             "gridcolor": "white",
             "linecolor": "white",
             "minorgridcolor": "white",
             "startlinecolor": "#2a3f5f"
            },
            "type": "carpet"
           }
          ],
          "choropleth": [
           {
            "colorbar": {
             "outlinewidth": 0,
             "ticks": ""
            },
            "type": "choropleth"
           }
          ],
          "contour": [
           {
            "colorbar": {
             "outlinewidth": 0,
             "ticks": ""
            },
            "colorscale": [
             [
              0,
              "#0d0887"
             ],
             [
              0.1111111111111111,
              "#46039f"
             ],
             [
              0.2222222222222222,
              "#7201a8"
             ],
             [
              0.3333333333333333,
              "#9c179e"
             ],
             [
              0.4444444444444444,
              "#bd3786"
             ],
             [
              0.5555555555555556,
              "#d8576b"
             ],
             [
              0.6666666666666666,
              "#ed7953"
             ],
             [
              0.7777777777777778,
              "#fb9f3a"
             ],
             [
              0.8888888888888888,
              "#fdca26"
             ],
             [
              1,
              "#f0f921"
             ]
            ],
            "type": "contour"
           }
          ],
          "contourcarpet": [
           {
            "colorbar": {
             "outlinewidth": 0,
             "ticks": ""
            },
            "type": "contourcarpet"
           }
          ],
          "heatmap": [
           {
            "colorbar": {
             "outlinewidth": 0,
             "ticks": ""
            },
            "colorscale": [
             [
              0,
              "#0d0887"
             ],
             [
              0.1111111111111111,
              "#46039f"
             ],
             [
              0.2222222222222222,
              "#7201a8"
             ],
             [
              0.3333333333333333,
              "#9c179e"
             ],
             [
              0.4444444444444444,
              "#bd3786"
             ],
             [
              0.5555555555555556,
              "#d8576b"
             ],
             [
              0.6666666666666666,
              "#ed7953"
             ],
             [
              0.7777777777777778,
              "#fb9f3a"
             ],
             [
              0.8888888888888888,
              "#fdca26"
             ],
             [
              1,
              "#f0f921"
             ]
            ],
            "type": "heatmap"
           }
          ],
          "heatmapgl": [
           {
            "colorbar": {
             "outlinewidth": 0,
             "ticks": ""
            },
            "colorscale": [
             [
              0,
              "#0d0887"
             ],
             [
              0.1111111111111111,
              "#46039f"
             ],
             [
              0.2222222222222222,
              "#7201a8"
             ],
             [
              0.3333333333333333,
              "#9c179e"
             ],
             [
              0.4444444444444444,
              "#bd3786"
             ],
             [
              0.5555555555555556,
              "#d8576b"
             ],
             [
              0.6666666666666666,
              "#ed7953"
             ],
             [
              0.7777777777777778,
              "#fb9f3a"
             ],
             [
              0.8888888888888888,
              "#fdca26"
             ],
             [
              1,
              "#f0f921"
             ]
            ],
            "type": "heatmapgl"
           }
          ],
          "histogram": [
           {
            "marker": {
             "pattern": {
              "fillmode": "overlay",
              "size": 10,
              "solidity": 0.2
             }
            },
            "type": "histogram"
           }
          ],
          "histogram2d": [
           {
            "colorbar": {
             "outlinewidth": 0,
             "ticks": ""
            },
            "colorscale": [
             [
              0,
              "#0d0887"
             ],
             [
              0.1111111111111111,
              "#46039f"
             ],
             [
              0.2222222222222222,
              "#7201a8"
             ],
             [
              0.3333333333333333,
              "#9c179e"
             ],
             [
              0.4444444444444444,
              "#bd3786"
             ],
             [
              0.5555555555555556,
              "#d8576b"
             ],
             [
              0.6666666666666666,
              "#ed7953"
             ],
             [
              0.7777777777777778,
              "#fb9f3a"
             ],
             [
              0.8888888888888888,
              "#fdca26"
             ],
             [
              1,
              "#f0f921"
             ]
            ],
            "type": "histogram2d"
           }
          ],
          "histogram2dcontour": [
           {
            "colorbar": {
             "outlinewidth": 0,
             "ticks": ""
            },
            "colorscale": [
             [
              0,
              "#0d0887"
             ],
             [
              0.1111111111111111,
              "#46039f"
             ],
             [
              0.2222222222222222,
              "#7201a8"
             ],
             [
              0.3333333333333333,
              "#9c179e"
             ],
             [
              0.4444444444444444,
              "#bd3786"
             ],
             [
              0.5555555555555556,
              "#d8576b"
             ],
             [
              0.6666666666666666,
              "#ed7953"
             ],
             [
              0.7777777777777778,
              "#fb9f3a"
             ],
             [
              0.8888888888888888,
              "#fdca26"
             ],
             [
              1,
              "#f0f921"
             ]
            ],
            "type": "histogram2dcontour"
           }
          ],
          "mesh3d": [
           {
            "colorbar": {
             "outlinewidth": 0,
             "ticks": ""
            },
            "type": "mesh3d"
           }
          ],
          "parcoords": [
           {
            "line": {
             "colorbar": {
              "outlinewidth": 0,
              "ticks": ""
             }
            },
            "type": "parcoords"
           }
          ],
          "pie": [
           {
            "automargin": true,
            "type": "pie"
           }
          ],
          "scatter": [
           {
            "fillpattern": {
             "fillmode": "overlay",
             "size": 10,
             "solidity": 0.2
            },
            "type": "scatter"
           }
          ],
          "scatter3d": [
           {
            "line": {
             "colorbar": {
              "outlinewidth": 0,
              "ticks": ""
             }
            },
            "marker": {
             "colorbar": {
              "outlinewidth": 0,
              "ticks": ""
             }
            },
            "type": "scatter3d"
           }
          ],
          "scattercarpet": [
           {
            "marker": {
             "colorbar": {
              "outlinewidth": 0,
              "ticks": ""
             }
            },
            "type": "scattercarpet"
           }
          ],
          "scattergeo": [
           {
            "marker": {
             "colorbar": {
              "outlinewidth": 0,
              "ticks": ""
             }
            },
            "type": "scattergeo"
           }
          ],
          "scattergl": [
           {
            "marker": {
             "colorbar": {
              "outlinewidth": 0,
              "ticks": ""
             }
            },
            "type": "scattergl"
           }
          ],
          "scattermapbox": [
           {
            "marker": {
             "colorbar": {
              "outlinewidth": 0,
              "ticks": ""
             }
            },
            "type": "scattermapbox"
           }
          ],
          "scatterpolar": [
           {
            "marker": {
             "colorbar": {
              "outlinewidth": 0,
              "ticks": ""
             }
            },
            "type": "scatterpolar"
           }
          ],
          "scatterpolargl": [
           {
            "marker": {
             "colorbar": {
              "outlinewidth": 0,
              "ticks": ""
             }
            },
            "type": "scatterpolargl"
           }
          ],
          "scatterternary": [
           {
            "marker": {
             "colorbar": {
              "outlinewidth": 0,
              "ticks": ""
             }
            },
            "type": "scatterternary"
           }
          ],
          "surface": [
           {
            "colorbar": {
             "outlinewidth": 0,
             "ticks": ""
            },
            "colorscale": [
             [
              0,
              "#0d0887"
             ],
             [
              0.1111111111111111,
              "#46039f"
             ],
             [
              0.2222222222222222,
              "#7201a8"
             ],
             [
              0.3333333333333333,
              "#9c179e"
             ],
             [
              0.4444444444444444,
              "#bd3786"
             ],
             [
              0.5555555555555556,
              "#d8576b"
             ],
             [
              0.6666666666666666,
              "#ed7953"
             ],
             [
              0.7777777777777778,
              "#fb9f3a"
             ],
             [
              0.8888888888888888,
              "#fdca26"
             ],
             [
              1,
              "#f0f921"
             ]
            ],
            "type": "surface"
           }
          ],
          "table": [
           {
            "cells": {
             "fill": {
              "color": "#EBF0F8"
             },
             "line": {
              "color": "white"
             }
            },
            "header": {
             "fill": {
              "color": "#C8D4E3"
             },
             "line": {
              "color": "white"
             }
            },
            "type": "table"
           }
          ]
         },
         "layout": {
          "annotationdefaults": {
           "arrowcolor": "#2a3f5f",
           "arrowhead": 0,
           "arrowwidth": 1
          },
          "autotypenumbers": "strict",
          "coloraxis": {
           "colorbar": {
            "outlinewidth": 0,
            "ticks": ""
           }
          },
          "colorscale": {
           "diverging": [
            [
             0,
             "#8e0152"
            ],
            [
             0.1,
             "#c51b7d"
            ],
            [
             0.2,
             "#de77ae"
            ],
            [
             0.3,
             "#f1b6da"
            ],
            [
             0.4,
             "#fde0ef"
            ],
            [
             0.5,
             "#f7f7f7"
            ],
            [
             0.6,
             "#e6f5d0"
            ],
            [
             0.7,
             "#b8e186"
            ],
            [
             0.8,
             "#7fbc41"
            ],
            [
             0.9,
             "#4d9221"
            ],
            [
             1,
             "#276419"
            ]
           ],
           "sequential": [
            [
             0,
             "#0d0887"
            ],
            [
             0.1111111111111111,
             "#46039f"
            ],
            [
             0.2222222222222222,
             "#7201a8"
            ],
            [
             0.3333333333333333,
             "#9c179e"
            ],
            [
             0.4444444444444444,
             "#bd3786"
            ],
            [
             0.5555555555555556,
             "#d8576b"
            ],
            [
             0.6666666666666666,
             "#ed7953"
            ],
            [
             0.7777777777777778,
             "#fb9f3a"
            ],
            [
             0.8888888888888888,
             "#fdca26"
            ],
            [
             1,
             "#f0f921"
            ]
           ],
           "sequentialminus": [
            [
             0,
             "#0d0887"
            ],
            [
             0.1111111111111111,
             "#46039f"
            ],
            [
             0.2222222222222222,
             "#7201a8"
            ],
            [
             0.3333333333333333,
             "#9c179e"
            ],
            [
             0.4444444444444444,
             "#bd3786"
            ],
            [
             0.5555555555555556,
             "#d8576b"
            ],
            [
             0.6666666666666666,
             "#ed7953"
            ],
            [
             0.7777777777777778,
             "#fb9f3a"
            ],
            [
             0.8888888888888888,
             "#fdca26"
            ],
            [
             1,
             "#f0f921"
            ]
           ]
          },
          "colorway": [
           "#636efa",
           "#EF553B",
           "#00cc96",
           "#ab63fa",
           "#FFA15A",
           "#19d3f3",
           "#FF6692",
           "#B6E880",
           "#FF97FF",
           "#FECB52"
          ],
          "font": {
           "color": "#2a3f5f"
          },
          "geo": {
           "bgcolor": "white",
           "lakecolor": "white",
           "landcolor": "#E5ECF6",
           "showlakes": true,
           "showland": true,
           "subunitcolor": "white"
          },
          "hoverlabel": {
           "align": "left"
          },
          "hovermode": "closest",
          "mapbox": {
           "style": "light"
          },
          "paper_bgcolor": "white",
          "plot_bgcolor": "#E5ECF6",
          "polar": {
           "angularaxis": {
            "gridcolor": "white",
            "linecolor": "white",
            "ticks": ""
           },
           "bgcolor": "#E5ECF6",
           "radialaxis": {
            "gridcolor": "white",
            "linecolor": "white",
            "ticks": ""
           }
          },
          "scene": {
           "xaxis": {
            "backgroundcolor": "#E5ECF6",
            "gridcolor": "white",
            "gridwidth": 2,
            "linecolor": "white",
            "showbackground": true,
            "ticks": "",
            "zerolinecolor": "white"
           },
           "yaxis": {
            "backgroundcolor": "#E5ECF6",
            "gridcolor": "white",
            "gridwidth": 2,
            "linecolor": "white",
            "showbackground": true,
            "ticks": "",
            "zerolinecolor": "white"
           },
           "zaxis": {
            "backgroundcolor": "#E5ECF6",
            "gridcolor": "white",
            "gridwidth": 2,
            "linecolor": "white",
            "showbackground": true,
            "ticks": "",
            "zerolinecolor": "white"
           }
          },
          "shapedefaults": {
           "line": {
            "color": "#2a3f5f"
           }
          },
          "ternary": {
           "aaxis": {
            "gridcolor": "white",
            "linecolor": "white",
            "ticks": ""
           },
           "baxis": {
            "gridcolor": "white",
            "linecolor": "white",
            "ticks": ""
           },
           "bgcolor": "#E5ECF6",
           "caxis": {
            "gridcolor": "white",
            "linecolor": "white",
            "ticks": ""
           }
          },
          "title": {
           "x": 0.05
          },
          "xaxis": {
           "automargin": true,
           "gridcolor": "white",
           "linecolor": "white",
           "ticks": "",
           "title": {
            "standoff": 15
           },
           "zerolinecolor": "white",
           "zerolinewidth": 2
          },
          "yaxis": {
           "automargin": true,
           "gridcolor": "white",
           "linecolor": "white",
           "ticks": "",
           "title": {
            "standoff": 15
           },
           "zerolinecolor": "white",
           "zerolinewidth": 2
          }
         }
        },
        "width": 1100,
        "xaxis": {
         "anchor": "y",
         "domain": [
          0,
          1
         ],
         "showgrid": false,
         "tickfont": {
          "color": "black",
          "family": "Arial",
          "size": 15
         }
        },
        "yaxis": {
         "anchor": "x",
         "autorange": "reversed",
         "domain": [
          0,
          1
         ],
         "showgrid": false,
         "tickfont": {
          "color": "black",
          "family": "Arial",
          "size": 15
         }
        }
       }
      }
     },
     "metadata": {},
     "output_type": "display_data"
    }
   ],
   "source": [
    "# prepare the data for the plot\n",
    "data_correlations = data[['criticism_or_agenda_human', 'topic_human', 'sentiment_human', 'polarization_human', 'populism_human', 'entity_specific_human']]\n",
    "data_correlations.rename(columns={'criticism_or_agenda_human': 'criticism or agenda', 'topic_human': 'topic', 'sentiment_human': 'sentiment', \n",
    "                                  'polarization_human': 'polarization', 'populism_human': 'populism', 'entity_specific_human': 'entity'}, inplace=True)\n",
    "data_correlations['entity'] = data_correlations['entity'].apply(lambda x: len(x)) # applied: entities count | alternatives: frequent specifc entities or category entities\n",
    "data_correlations['criticism or agenda'] = data_correlations['criticism or agenda'].map({'criticism': 0, 'political agenda': 1})\n",
    "\n",
    "numericals = ['criticism or agenda', 'sentiment', 'polarization', 'populism', 'entity']\n",
    "correlation_matrix = pd.DataFrame(index=data_correlations.columns, columns=data_correlations.columns)\n",
    "\n",
    "# between numerical columns\n",
    "for col1 in numericals:\n",
    "    for col2 in numericals:\n",
    "        corr, _ = spearmanr(data_correlations[col1], data_correlations[col2], nan_policy='omit')\n",
    "        correlation_matrix.loc[col1, col2] = corr\n",
    "\n",
    "# between numerical and the topic_human categorical column\n",
    "for col in numericals:  # convert numerical to categorical with quartiles\n",
    "    if col in ['sentiment', 'polarization', 'populism']:\n",
    "        data_correlations[col] = pd.qcut(data_correlations[col], 3, labels=False, duplicates='drop')\n",
    "    elif col == 'criticism or agenda':\n",
    "        data_correlations[col] = pd.qcut(data_correlations[col], 2, labels=False, duplicates='drop')\n",
    "    elif col == 'entity':\n",
    "        data_correlations[col] = pd.qcut(data_correlations[col], 33, labels=False, duplicates='drop')\n",
    "    correlation_matrix.loc[col, 'topic'] = cramers_v(data_correlations[col], data_correlations['topic'])\n",
    "correlation_matrix.loc['topic', 'topic'] = 1\n",
    "\n",
    "# data for the plot\n",
    "correlation_matrix = correlation_matrix.astype(float)\n",
    "mask = np.triu(np.ones(correlation_matrix.shape, dtype=bool), k=1)\n",
    "correlation_matrix = correlation_matrix.mask(mask).round(2)\n",
    "\n",
    "# plot the correlation matrix\n",
    "custom_colors = [(0.0, \"#d73027\" ), (0.25, \"#fdae61\"), (0.5, \"#ffffbf\"), (0.75, \"#abd9e9\"), (1.0, \"#4575b4\")]\n",
    "fig = px.imshow(correlation_matrix, text_auto=True, color_continuous_scale=custom_colors, aspect='auto', zmin=-1, zmax=1)\n",
    "fig.update_traces(textfont_size=14)\n",
    "\n",
    "# adjust figure size\n",
    "fig.update_layout( width=1100, height=500, xaxis_showgrid=False, yaxis_showgrid=False)\n",
    "\n",
    "# adjust axis\n",
    "fig.update_xaxes(tickfont=dict(size=15, family='Arial', color='black'))\n",
    "fig.update_yaxes(tickfont=dict(size=15, family='Arial', color='black'))\n",
    "\n",
    "fig.show()\n",
    "fig.write_image(\"images/correlations.png\", scale=2)"
   ]
  }
 ],
 "metadata": {
  "kernelspec": {
   "display_name": ".venv",
   "language": "python",
   "name": "python3"
  },
  "language_info": {
   "codemirror_mode": {
    "name": "ipython",
    "version": 3
   },
   "file_extension": ".py",
   "mimetype": "text/x-python",
   "name": "python",
   "nbconvert_exporter": "python",
   "pygments_lexer": "ipython3",
   "version": "3.12.2"
  }
 },
 "nbformat": 4,
 "nbformat_minor": 2
}
