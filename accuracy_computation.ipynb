{
 "cells": [
  {
   "cell_type": "markdown",
   "metadata": {},
   "source": [
    "This notebook computes the most prevalent value in each NLP task and the accuracy of ChatGPT annotations based on the human annotations.\n",
    "\n",
    "* Input: 'AgoraSpeech_preprocessed.csv'\n",
    "* Output: prints\n",
    "* Actions: \n",
    "    1. Finds and prints the most frequent value along with the percentage of paragraphs for each NLP task\n",
    "    2. Finds and prints the accuracy of the ChatGPT annotations compared to the human annotations "
   ]
  },
  {
   "cell_type": "code",
   "execution_count": 1,
   "metadata": {},
   "outputs": [],
   "source": [
    "import pandas as pd"
   ]
  },
  {
   "cell_type": "code",
   "execution_count": 2,
   "metadata": {},
   "outputs": [],
   "source": [
    "# read data\n",
    "data = pd.read_csv('AgoraSpeech_preprocessed.csv')"
   ]
  },
  {
   "cell_type": "code",
   "execution_count": 3,
   "metadata": {},
   "outputs": [
    {
     "name": "stdout",
     "output_type": "stream",
     "text": [
      "political agenda 61.0 %\n",
      "criticism_or_agenda: 89.0 %\n",
      "\n",
      "\n",
      "elections 25.0 %\n",
      "topic: 61.0 %\n",
      "\n",
      "\n",
      "positive 40.0 %\n",
      "sentiment: 93.0 %\n",
      "\n",
      "\n",
      "low 88.0 %\n",
      "polarization: 88.0 %\n",
      "\n",
      "\n",
      "low 97.0 %\n",
      "populism: 93.0 %\n",
      "\n",
      "\n"
     ]
    }
   ],
   "source": [
    "tasks = ['criticism_or_agenda', 'topic', 'sentiment', 'polarization', 'populism']\n",
    "for task in tasks:\n",
    "    if task == 'sentiment' or task == 'polarization' or task == 'populism':\n",
    "        gpt = data[task + '_gpt_category']\n",
    "        human = data[task + '_human_category']\n",
    "    else:\n",
    "        gpt = data[task + '_gpt']\n",
    "        human = data[task + '_human']\n",
    "\n",
    "    # find and print the most frequent value along with the percentage of paragraphs\n",
    "    print(f'{human.value_counts().idxmax()} {round(human.value_counts().max()/len(data)*100,0)} %')\n",
    "\n",
    "    # find and print the accuracy of the ChatGPT annotations compared to the human annotations \n",
    "    # (as the proportion of paragraphs where ChatGPT's annotation remains unchanged by human reviewers, relative to the total number of paragraphs)\n",
    "    equal = gpt == human\n",
    "    print(f'{task}: {round(sum(equal)/len(data)*100,0)} %')\n",
    "    print('\\n')"
   ]
  }
 ],
 "metadata": {
  "kernelspec": {
   "display_name": ".venv",
   "language": "python",
   "name": "python3"
  },
  "language_info": {
   "codemirror_mode": {
    "name": "ipython",
    "version": 3
   },
   "file_extension": ".py",
   "mimetype": "text/x-python",
   "name": "python",
   "nbconvert_exporter": "python",
   "pygments_lexer": "ipython3",
   "version": "3.12.2"
  }
 },
 "nbformat": 4,
 "nbformat_minor": 2
}
